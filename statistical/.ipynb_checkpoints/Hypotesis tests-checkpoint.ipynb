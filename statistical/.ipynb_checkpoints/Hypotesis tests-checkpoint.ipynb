{
 "cells": [
  {
   "cell_type": "markdown",
   "metadata": {},
   "source": [
    "# Hypotesis tests\n",
    "https://towardsdatascience.com/what-hypothesis-test-should-i-use-for-my-a-b-experiment-2cfc7fd3537b"
   ]
  },
  {
   "cell_type": "markdown",
   "metadata": {},
   "source": [
    "### T-Student\n",
    "The t-test is a parametric test used to determine whether there is a significant difference between the means of two continuous samples.\n",
    "\n",
    "Assumptions\n",
    "\n",
    "- Observations in each sample are independent\n",
    "- Observations in each sample are approximately normally distributed\n",
    "- Observations in each sample have the same variance\n",
    "\n",
    "Hypotheses\n",
    "\n",
    "- H0: the means of the two samples are equal\n",
    "- H1: the means of the two samples are not equal"
   ]
  },
  {
   "cell_type": "code",
   "execution_count": null,
   "metadata": {},
   "outputs": [],
   "source": [
    "from scipy.stats import ttest_ind\n",
    "\n",
    "# Randomly generate data\n",
    "x1 = rng.normal(loc=0.25, scale=1, size=100)\n",
    "x2 = rng.normal(loc=0.00, scale=1, size=100)\n",
    "\n",
    "# Calculate test statistic and p-value\n",
    "stat, p = ttest_ind(x1, x2)\n",
    "\n",
    "# Interpreation\n",
    "print('stat=%.3f, p=%.3f' % (stat, p))\n",
    "if p > 0.05:\n",
    "    print('Do not reject the null hypothesis and conclude the means of the samples are the same.')\n",
    "else:\n",
    "    print('Reject the null hypothesis and conclude the means of the samples are not the same.')"
   ]
  },
  {
   "cell_type": "markdown",
   "metadata": {},
   "source": [
    "### Mann-Whitney U test\n",
    "The Mann-Whitney U test is a non-parametric test to determine whether the distributions of two continuous samples are the same. The Mann-Whitney U test is the non-parametric version of the Student’s t-test for independent samples.\n",
    "\n",
    "Assumptions\n",
    "\n",
    "- Observations in each sample are independent\n",
    "- Observations in each sample are continuous or ordinal and can be ranked\n",
    "- The distribution of each sample is approximately the same shape\n",
    "\n",
    "Hypotheses\n",
    "\n",
    "- H0: the distributions of each sample are the same\n",
    "- H1: the distributions of each sample are not the same"
   ]
  },
  {
   "cell_type": "code",
   "execution_count": null,
   "metadata": {},
   "outputs": [],
   "source": [
    "from scipy.stats import mannwhitneyu\n",
    "\n",
    "# Randomly generate the data\n",
    "x1 = rng.normal(loc=0.25, scale=1, size=100)\n",
    "x2 = rng.normal(loc=0.00, scale=1, size=100)\n",
    "\n",
    "# Calculate test statistic and p-value\n",
    "stat, p = mannwhitneyu(x1, x2)\n",
    "\n",
    "# Interpreatation\n",
    "print('stat=%.3f, p=%.3f' % (stat, p))\n",
    "if p > 0.05:\n",
    "    print('Do not reject the null hypothesis and conclude the distributions of the samples are the same.')\n",
    "else:\n",
    "    print('Reject the null hypothesis and conclude the distributions of the samples are not the same.')"
   ]
  },
  {
   "cell_type": "markdown",
   "metadata": {},
   "source": [
    "### T-Student"
   ]
  },
  {
   "cell_type": "code",
   "execution_count": null,
   "metadata": {},
   "outputs": [],
   "source": []
  },
  {
   "cell_type": "markdown",
   "metadata": {},
   "source": [
    "### T-Student"
   ]
  },
  {
   "cell_type": "code",
   "execution_count": null,
   "metadata": {},
   "outputs": [],
   "source": []
  },
  {
   "cell_type": "markdown",
   "metadata": {},
   "source": [
    "### T-Student"
   ]
  },
  {
   "cell_type": "code",
   "execution_count": null,
   "metadata": {},
   "outputs": [],
   "source": []
  },
  {
   "cell_type": "markdown",
   "metadata": {},
   "source": [
    "### T-Student"
   ]
  }
 ],
 "metadata": {
  "kernelspec": {
   "display_name": "Python 3",
   "language": "python",
   "name": "python3"
  },
  "language_info": {
   "codemirror_mode": {
    "name": "ipython",
    "version": 3
   },
   "file_extension": ".py",
   "mimetype": "text/x-python",
   "name": "python",
   "nbconvert_exporter": "python",
   "pygments_lexer": "ipython3",
   "version": "3.8.5"
  }
 },
 "nbformat": 4,
 "nbformat_minor": 4
}
