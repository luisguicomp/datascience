{
 "cells": [
  {
   "cell_type": "markdown",
   "metadata": {},
   "source": [
    "# Hypotesis test"
   ]
  },
  {
   "cell_type": "code",
   "execution_count": 1,
   "metadata": {},
   "outputs": [],
   "source": [
    "import matplotlib.pyplot as plt\n",
    "import seaborn as sns\n",
    "import pandas as pd\n",
    "import numpy as np"
   ]
  },
  {
   "cell_type": "code",
   "execution_count": 2,
   "metadata": {
    "scrolled": true
   },
   "outputs": [
    {
     "data": {
      "text/html": [
       "<div>\n",
       "<style scoped>\n",
       "    .dataframe tbody tr th:only-of-type {\n",
       "        vertical-align: middle;\n",
       "    }\n",
       "\n",
       "    .dataframe tbody tr th {\n",
       "        vertical-align: top;\n",
       "    }\n",
       "\n",
       "    .dataframe thead th {\n",
       "        text-align: right;\n",
       "    }\n",
       "</style>\n",
       "<table border=\"1\" class=\"dataframe\">\n",
       "  <thead>\n",
       "    <tr style=\"text-align: right;\">\n",
       "      <th></th>\n",
       "      <th>sepal length (cm)</th>\n",
       "      <th>sepal width (cm)</th>\n",
       "      <th>petal length (cm)</th>\n",
       "      <th>petal width (cm)</th>\n",
       "      <th>species</th>\n",
       "    </tr>\n",
       "  </thead>\n",
       "  <tbody>\n",
       "    <tr>\n",
       "      <th>0</th>\n",
       "      <td>5.1</td>\n",
       "      <td>3.5</td>\n",
       "      <td>1.4</td>\n",
       "      <td>0.2</td>\n",
       "      <td>0</td>\n",
       "    </tr>\n",
       "    <tr>\n",
       "      <th>1</th>\n",
       "      <td>4.9</td>\n",
       "      <td>3.0</td>\n",
       "      <td>1.4</td>\n",
       "      <td>0.2</td>\n",
       "      <td>0</td>\n",
       "    </tr>\n",
       "    <tr>\n",
       "      <th>2</th>\n",
       "      <td>4.7</td>\n",
       "      <td>3.2</td>\n",
       "      <td>1.3</td>\n",
       "      <td>0.2</td>\n",
       "      <td>0</td>\n",
       "    </tr>\n",
       "    <tr>\n",
       "      <th>3</th>\n",
       "      <td>4.6</td>\n",
       "      <td>3.1</td>\n",
       "      <td>1.5</td>\n",
       "      <td>0.2</td>\n",
       "      <td>0</td>\n",
       "    </tr>\n",
       "    <tr>\n",
       "      <th>4</th>\n",
       "      <td>5.0</td>\n",
       "      <td>3.6</td>\n",
       "      <td>1.4</td>\n",
       "      <td>0.2</td>\n",
       "      <td>0</td>\n",
       "    </tr>\n",
       "  </tbody>\n",
       "</table>\n",
       "</div>"
      ],
      "text/plain": [
       "   sepal length (cm)  sepal width (cm)  petal length (cm)  petal width (cm)  \\\n",
       "0                5.1               3.5                1.4               0.2   \n",
       "1                4.9               3.0                1.4               0.2   \n",
       "2                4.7               3.2                1.3               0.2   \n",
       "3                4.6               3.1                1.5               0.2   \n",
       "4                5.0               3.6                1.4               0.2   \n",
       "\n",
       "   species  \n",
       "0        0  \n",
       "1        0  \n",
       "2        0  \n",
       "3        0  \n",
       "4        0  "
      ]
     },
     "execution_count": 2,
     "metadata": {},
     "output_type": "execute_result"
    }
   ],
   "source": [
    "from sklearn.datasets import load_iris\n",
    "data = load_iris()\n",
    "\n",
    "df = pd.DataFrame(data.data, columns=data.feature_names)\n",
    "df['species'] = pd.Series(data.target)\n",
    "df.head()"
   ]
  },
  {
   "cell_type": "code",
   "execution_count": 3,
   "metadata": {},
   "outputs": [
    {
     "data": {
      "text/plain": [
       "array([205.33811756, 115.82372389, 160.25042207, 155.77053985,\n",
       "       119.34409865, 156.667809  , 129.14559477, 182.21467293,\n",
       "        97.91827393, 176.2218703 , 186.80490698, 169.97528829,\n",
       "       116.4735732 , 128.58890942, 160.59172731, 165.36593235,\n",
       "       154.00080002, 142.55344652, 136.31546565, 134.03363955,\n",
       "       136.98260233, 124.7187784 , 188.22696592, 130.92338593,\n",
       "       120.58406498, 170.06805341, 167.7243763 , 150.76659835,\n",
       "       107.83288688, 129.05333267, 107.79748916, 183.23891529,\n",
       "       196.54235542, 128.02877724, 109.99438082, 174.65582806,\n",
       "       175.35261111, 138.35198575, 199.22822954, 107.28875005,\n",
       "       139.13762122, 198.03730399, 143.01418099, 168.28600783,\n",
       "       144.83042982, 141.39464178, 203.04289935, 209.6838593 ,\n",
       "       206.01509271, 145.41608061, 147.26063739, 174.12123302,\n",
       "       165.95524513, 196.45610791, 136.46188895, 124.07865056,\n",
       "       140.17440912, 151.27408516, 126.0148978 , 185.46244841,\n",
       "       148.63814827, 153.01800354, 145.0205273 , 128.24467355,\n",
       "       128.28473959, 135.94602932, 149.42247951, 153.75130504,\n",
       "       162.01814129, 142.18884775, 167.99915806, 156.65158685,\n",
       "       153.02072809, 156.96823528, 121.91350197, 192.24698078,\n",
       "       163.90699617, 120.6277427 , 134.88596272, 172.08831151,\n",
       "       134.68338717, 166.55498951, 176.69489268, 143.90002759,\n",
       "       141.01179461, 159.33620724,  96.39355005, 135.42606081,\n",
       "       157.96714694, 167.92073663, 127.99249201, 145.28469899,\n",
       "       110.43714972, 160.17589722, 221.1744447 , 132.47182165,\n",
       "       208.13568491, 176.78576941, 163.47426768, 176.02754917])"
      ]
     },
     "execution_count": 3,
     "metadata": {},
     "output_type": "execute_result"
    }
   ],
   "source": [
    "arr1 = np.random.normal(150, 25, size=100)\n",
    "arr2 = np.random.normal(160, 35, size=100)\n",
    "arr1"
   ]
  },
  {
   "cell_type": "markdown",
   "metadata": {},
   "source": [
    "## Permutação"
   ]
  },
  {
   "cell_type": "code",
   "execution_count": 4,
   "metadata": {},
   "outputs": [
    {
     "data": {
      "text/plain": [
       "array([135.94602932, 183.23891529, 139.13762122,  74.03533029,\n",
       "       139.93191928, 134.68338717, 103.86071505, 138.78039931,\n",
       "       199.22822954, 201.06750934, 157.96714694, 171.43291505,\n",
       "       161.45291482, 141.39464178, 119.34409865, 215.04747404,\n",
       "       102.18961594, 148.44952267, 136.46188895, 263.80762761,\n",
       "       209.6838593 , 164.07331162, 188.22696592, 145.41608061,\n",
       "       132.78472734, 134.29374575, 176.2218703 , 152.20901092,\n",
       "       185.72987943, 144.83042982, 131.48503397, 186.40194368,\n",
       "       174.12123302, 134.88596272, 172.08831151, 162.01814129,\n",
       "       116.4735732 , 143.61433487, 176.74394385, 136.98260233,\n",
       "       205.84424781, 160.25042207, 145.0205273 , 148.63814827,\n",
       "       124.7187784 , 133.78506322, 153.75130504, 183.64818821,\n",
       "       115.34590893, 178.57688531, 109.04935366, 170.06805341,\n",
       "       119.47997725, 165.28437945, 143.10959744, 146.35830943,\n",
       "       129.17213252, 136.49872793, 163.47426768, 217.60368024,\n",
       "       160.59172731, 227.17520828, 109.99438082, 134.03363955,\n",
       "       180.91758465,  97.42247494, 145.28469899, 144.42261745,\n",
       "       156.65158685, 154.00080002, 192.36985399, 107.79748916,\n",
       "       151.27408516, 140.17440912, 140.54714471, 208.13568491,\n",
       "       215.30732463, 176.69489268,  97.91827393, 159.79824643,\n",
       "       165.95524513, 114.98678937, 121.91350197, 181.66120741,\n",
       "       221.1744447 , 110.43714972, 147.26063739, 197.46087833,\n",
       "       128.58890942, 153.02072809, 175.61059103, 166.18640744,\n",
       "       194.94822349, 136.31546565, 180.74626817, 143.90002759,\n",
       "       128.02877724, 125.79515461, 168.28600783, 153.01800354])"
      ]
     },
     "execution_count": 4,
     "metadata": {},
     "output_type": "execute_result"
    }
   ],
   "source": [
    "both = np.concatenate((arr1,arr2))\n",
    "perm = np.random.permutation(both)\n",
    "perm_1 = perm[:len(arr1)]\n",
    "perm_2 = perm[len(arr1):]\n",
    "perm_2"
   ]
  },
  {
   "cell_type": "code",
   "execution_count": 5,
   "metadata": {},
   "outputs": [],
   "source": [
    "def permutation_sample(data1, data2):\n",
    "    \"\"\"Generate a permutation sample from two data sets.\"\"\"\n",
    "\n",
    "    # Concatenate the data sets: data\n",
    "    data = np.concatenate((data1, data2))\n",
    "\n",
    "    # Permute the concatenated array: permuted_data\n",
    "    permuted_data = np.random.permutation(data)\n",
    "\n",
    "    # Split the permuted array into two: perm_sample_1, perm_sample_2\n",
    "    perm_sample_1 = permuted_data[:len(data1)]\n",
    "    perm_sample_2 = permuted_data[len(data1):]\n",
    "\n",
    "    return perm_sample_1, perm_sample_2"
   ]
  },
  {
   "cell_type": "code",
   "execution_count": 6,
   "metadata": {},
   "outputs": [],
   "source": [
    "#Empirical cumulative distribution function\n",
    "def ecdf(data):\n",
    "    \"\"\"Compute ECDF for a one-dimensional array of measurements.\"\"\"\n",
    "    # Number of data points: n\n",
    "    n = len(data)\n",
    "    # x-data for the ECDF: x\n",
    "    x = np.sort(data)\n",
    "    # y-data for the ECDF: y\n",
    "    y = np.arange(1, n+1) / n\n",
    "    return x, y"
   ]
  },
  {
   "cell_type": "code",
   "execution_count": 7,
   "metadata": {
    "scrolled": true
   },
   "outputs": [
    {
     "data": {
      "image/png": "[encoded data removed]",
      "text/plain": [
       "<Figure size 432x288 with 1 Axes>"
      ]
     },
     "metadata": {
      "needs_background": "light"
     },
     "output_type": "display_data"
    }
   ],
   "source": [
    "x,y = ecdf(perm_2)\n",
    "\n",
    "plt.plot(x, y, marker='.', linestyle='none')\n",
    "plt.xlabel('Samples')\n",
    "plt.ylabel('ECDF')\n",
    "plt.margins(0.02)\n",
    "\n",
    "# Show the plot\n",
    "plt.show()"
   ]
  },
  {
   "cell_type": "markdown",
   "metadata": {},
   "source": [
    "## Teste de hipótese"
   ]
  },
  {
   "cell_type": "code",
   "execution_count": 10,
   "metadata": {},
   "outputs": [],
   "source": [
    "def draw_perm_reps(data_1, data_2, func, size=1):\n",
    "    \"\"\"Generate multiple permutation replicates.\"\"\"\n",
    "\n",
    "    # Initialize array of replicates: perm_replicates\n",
    "    perm_replicates = np.empty(size)\n",
    "\n",
    "    for i in range(size):\n",
    "        # Generate permutation sample\n",
    "        perm_sample_1, perm_sample_2 = permutation_sample(data_1, data_2)\n",
    "\n",
    "        # Compute the test statistic\n",
    "        perm_replicates[i] = func(perm_sample_1,perm_sample_2)\n",
    "\n",
    "    return perm_replicates"
   ]
  },
  {
   "cell_type": "code",
   "execution_count": 11,
   "metadata": {},
   "outputs": [
    {
     "name": "stdout",
     "output_type": "stream",
     "text": [
      "p-value = 0.3675\n"
     ]
    }
   ],
   "source": [
    "def diff_of_means(data_1, data_2):\n",
    "    \"\"\"Difference in means of two arrays.\"\"\"\n",
    "\n",
    "    # The difference of means of data_1, data_2: diff\n",
    "    diff = np.mean(data_1)-np.mean(data_2)\n",
    "\n",
    "    return diff\n",
    "\n"
   ]
  },
  {
   "cell_type": "markdown",
   "metadata": {},
   "source": [
    "### Obtendo p-value\n",
    "Se for muito baixo, então ignora a hipótese nula (diferença  significativa),\n",
    "quanto mais alto for, mais semelhantes são os grupos"
   ]
  },
  {
   "cell_type": "code",
   "execution_count": 12,
   "metadata": {},
   "outputs": [
    {
     "name": "stdout",
     "output_type": "stream",
     "text": [
      "p-value = 0.36\n"
     ]
    }
   ],
   "source": [
    "# Obtendo p-value\n",
    "# Compute difference of mean impact force from experiment: empirical_diff_means\n",
    "empirical_diff_means = diff_of_means(perm_1, perm_2)\n",
    "\n",
    "# Draw 10,000 permutation replicates: perm_replicates\n",
    "perm_replicates = draw_perm_reps(perm_1, perm_2,\n",
    "                                 diff_of_means, size=10000)\n",
    "\n",
    "# Compute p-value: p\n",
    "p = np.sum(perm_replicates >= empirical_diff_means) / len(perm_replicates)\n",
    "\n",
    "# Print the result\n",
    "print('p-value =', p)"
   ]
  },
  {
   "cell_type": "markdown",
   "metadata": {},
   "source": [
    "### Pipeline para teste de hipóteses"
   ]
  },
  {
   "cell_type": "markdown",
   "metadata": {},
   "source": [
    "- 1.Declare claramente a hipótese nula. Afirmar a hipótese nula de forma clara é essencial para poder simulá-la. \n",
    "- 2.Defina sua estatística de teste.\n",
    "- 3.Gere muitos conjuntos de dados simulados assumindo que a hipótese nula é verdadeira. \n",
    "- 4.Calcule a estatística de teste para cada conjunto de dados simulado.\n",
    "- O valor-p é então a fração de seus conjuntos de dados simulados para os quais a estatística de teste é pelo menos tão extrema quanto para os dados reais."
   ]
  },
  {
   "cell_type": "code",
   "execution_count": 16,
   "metadata": {},
   "outputs": [],
   "source": [
    "def bootstrap_replicate_1d(data, func):\n",
    "    \"\"\"Generate bootstrap replicate of 1D data.\"\"\"\n",
    "    bs_sample = np.random.choice(data, len(data))\n",
    "    return func(bs_sample)"
   ]
  },
  {
   "cell_type": "code",
   "execution_count": 17,
   "metadata": {},
   "outputs": [],
   "source": [
    "def draw_bs_reps(data, func, size=1):\n",
    "    \"\"\"Draw bootstrap replicates.\"\"\"\n",
    "\n",
    "    # Initialize array of replicates: bs_replicates\n",
    "    bs_replicates = np.empty(size)\n",
    "\n",
    "    # Generate replicates\n",
    "    for i in range(size):\n",
    "        bs_replicates[i] = bootstrap_replicate_1d(data, func)\n",
    "\n",
    "    return bs_replicates\n"
   ]
  },
  {
   "cell_type": "code",
   "execution_count": null,
   "metadata": {},
   "outputs": [],
   "source": [
    "# Make an array of translated impact forces: translated_force_b\n",
    "translated_force_b = force_b-np.mean(force_b)+0.55\n",
    "\n",
    "# Take bootstrap replicates of Frog B's translated impact forces: bs_replicates\n",
    "bs_replicates = draw_bs_reps(translated_force_b, np.mean, 10000)\n",
    "\n",
    "# Compute fraction of replicates that are less than the observed Frog B force: p\n",
    "p = np.sum(bs_replicates <= np.mean(force_b)) / 10000\n",
    "\n",
    "# Print the p-value\n",
    "print('p = ', p)"
   ]
  },
  {
   "cell_type": "code",
   "execution_count": 18,
   "metadata": {},
   "outputs": [
    {
     "name": "stdout",
     "output_type": "stream",
     "text": [
      "p-value = 0.3627\n"
     ]
    }
   ],
   "source": [
    "# Compute mean of all forces: mean_force\n",
    "mean_force = np.mean(perm_1)\n",
    "\n",
    "# Generate shifted arrays\n",
    "force_a_shifted = perm_1 - np.mean(perm_1) + mean_force\n",
    "force_b_shifted = perm_2 - np.mean(perm_2) + mean_force\n",
    "\n",
    "# Compute 10,000 bootstrap replicates from shifted arrays\n",
    "bs_replicates_a = draw_bs_reps(force_a_shifted, np.mean, size=10000)\n",
    "bs_replicates_b = draw_bs_reps(force_b_shifted, np.mean, size=10000)\n",
    "\n",
    "# Get replicates of difference of means: bs_replicates\n",
    "bs_replicates = bs_replicates_a - bs_replicates_b\n",
    "\n",
    "# Compute and print p-value: p\n",
    "p = np.sum(bs_replicates >= empirical_diff_means) / len(bs_replicates)\n",
    "print('p-value =', p)\n"
   ]
  },
  {
   "cell_type": "markdown",
   "metadata": {},
   "source": [
    "## Teste A/B\n",
    "Aplicação do teste de hipótese em 2 situações"
   ]
  },
  {
   "cell_type": "markdown",
   "metadata": {},
   "source": [
    "## Teste de correlação\n",
    "Correlação de pearson: pearson_r(data)"
   ]
  },
  {
   "cell_type": "code",
   "execution_count": null,
   "metadata": {},
   "outputs": [],
   "source": []
  },
  {
   "cell_type": "code",
   "execution_count": null,
   "metadata": {},
   "outputs": [],
   "source": []
  },
  {
   "cell_type": "code",
   "execution_count": null,
   "metadata": {},
   "outputs": [],
   "source": []
  },
  {
   "cell_type": "markdown",
   "metadata": {},
   "source": []
  },
  {
   "cell_type": "code",
   "execution_count": null,
   "metadata": {},
   "outputs": [],
   "source": []
  }
 ],
 "metadata": {
  "kernelspec": {
   "display_name": "Python 3",
   "language": "python",
   "name": "python3"
  },
  "language_info": {
   "codemirror_mode": {
    "name": "ipython",
    "version": 3
   },
   "file_extension": ".py",
   "mimetype": "text/x-python",
   "name": "python",
   "nbconvert_exporter": "python",
   "pygments_lexer": "ipython3",
   "version": "3.8.5"
  }
 },
 "nbformat": 4,
 "nbformat_minor": 4
}
