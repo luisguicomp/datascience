{
 "cells": [
  {
   "cell_type": "markdown",
   "metadata": {},
   "source": [
    "# Hypotesis tests\n",
    "https://towardsdatascience.com/what-hypothesis-test-should-i-use-for-my-a-b-experiment-2cfc7fd3537b"
   ]
  },
  {
   "cell_type": "code",
   "execution_count": 4,
   "metadata": {},
   "outputs": [],
   "source": [
    "from numpy import random as rng"
   ]
  },
  {
   "cell_type": "markdown",
   "metadata": {},
   "source": [
    "### T-Student\n",
    "The t-test is a parametric test used to determine whether there is a significant difference between the means of two continuous samples.\n",
    "\n",
    "Assumptions\n",
    "\n",
    "- Observations in each sample are independent\n",
    "- Observations in each sample are approximately normally distributed\n",
    "- Observations in each sample have the same variance\n",
    "\n",
    "Hypotheses\n",
    "\n",
    "- H0: the means of the two samples are equal\n",
    "- H1: the means of the two samples are not equal"
   ]
  },
  {
   "cell_type": "code",
   "execution_count": 5,
   "metadata": {},
   "outputs": [
    {
     "name": "stdout",
     "output_type": "stream",
     "text": [
      "stat=3.645, p=0.000\n",
      "Reject the null hypothesis and conclude the means of the samples are not the same.\n"
     ]
    }
   ],
   "source": [
    "from scipy.stats import ttest_ind\n",
    "\n",
    "# Randomly generate data\n",
    "x1 = rng.normal(loc=0.25, scale=1, size=100)\n",
    "x2 = rng.normal(loc=0.00, scale=1, size=100)\n",
    "\n",
    "# Calculate test statistic and p-value\n",
    "stat, p = ttest_ind(x1, x2)\n",
    "\n",
    "# Interpreation\n",
    "print('stat=%.3f, p=%.3f' % (stat, p))\n",
    "if p > 0.05:\n",
    "    print('Do not reject the null hypothesis and conclude the means of the samples are the same.')\n",
    "else:\n",
    "    print('Reject the null hypothesis and conclude the means of the samples are not the same.')"
   ]
  },
  {
   "cell_type": "markdown",
   "metadata": {},
   "source": [
    "### Mann-Whitney U test\n",
    "The Mann-Whitney U test is a non-parametric test to determine whether the distributions of two continuous samples are the same. The Mann-Whitney U test is the non-parametric version of the Student’s t-test for independent samples.\n",
    "\n",
    "Assumptions\n",
    "\n",
    "- Observations in each sample are independent\n",
    "- Observations in each sample are continuous or ordinal and can be ranked\n",
    "- The distribution of each sample is approximately the same shape\n",
    "\n",
    "Hypotheses\n",
    "\n",
    "- H0: the distributions of each sample are the same\n",
    "- H1: the distributions of each sample are not the same"
   ]
  },
  {
   "cell_type": "code",
   "execution_count": 6,
   "metadata": {},
   "outputs": [
    {
     "name": "stdout",
     "output_type": "stream",
     "text": [
      "stat=4198.000, p=0.025\n",
      "Reject the null hypothesis and conclude the distributions of the samples are not the same.\n"
     ]
    }
   ],
   "source": [
    "from scipy.stats import mannwhitneyu\n",
    "\n",
    "# Randomly generate the data\n",
    "x1 = rng.normal(loc=0.25, scale=1, size=100)\n",
    "x2 = rng.normal(loc=0.00, scale=1, size=100)\n",
    "\n",
    "# Calculate test statistic and p-value\n",
    "stat, p = mannwhitneyu(x1, x2)\n",
    "\n",
    "# Interpreatation\n",
    "print('stat=%.3f, p=%.3f' % (stat, p))\n",
    "if p > 0.05:\n",
    "    print('Do not reject the null hypothesis and conclude the distributions of the samples are the same.')\n",
    "else:\n",
    "    print('Reject the null hypothesis and conclude the distributions of the samples are not the same.')"
   ]
  },
  {
   "cell_type": "markdown",
   "metadata": {},
   "source": [
    "### Paired Student’s t-test\n",
    "The Paired Student’s t-test is a parametric test used to determine whether there is a significant difference between the means of two paired continuous samples.\n",
    "\n",
    "Assumptions\n",
    "\n",
    "- Observations in each sample are independent\n",
    "- Observations in each sample are approximately normally distributed\n",
    "- Observations in each sample have the same variance\n",
    "- Observations across each sample are paired\n",
    "\n",
    "Hypotheses\n",
    "\n",
    "- H0: the means of the two paired samples are equal\n",
    "- H1: the means of the two paired samples are not equal"
   ]
  },
  {
   "cell_type": "code",
   "execution_count": 7,
   "metadata": {},
   "outputs": [
    {
     "name": "stdout",
     "output_type": "stream",
     "text": [
      "stat=-3.015, p=0.003\n",
      "Reject the null hypothesis and conclude the means of the paired samples are not the same.\n"
     ]
    }
   ],
   "source": [
    "from scipy.stats import ttest_rel\n",
    "\n",
    "# Randomly generate the data\n",
    "x1 = rng.normal(loc=0.00, scale=1, size=100)\n",
    "x2 = x1 + rng.normal(loc=0.25, scale=1, size=100)\n",
    "\n",
    "# Calculate test statistic and p-value\n",
    "stat, p = ttest_rel(x1, x2)\n",
    "\n",
    "# Interpreation\n",
    "print('stat=%.3f, p=%.3f' % (stat, p))\n",
    "if p > 0.05:\n",
    "    print('Do not reject the null hypothesis and conclude the means of the paired samples are the same.')\n",
    "else:\n",
    "    print('Reject the null hypothesis and conclude the means of the paired samples are not the same.')"
   ]
  },
  {
   "cell_type": "markdown",
   "metadata": {},
   "source": [
    "### Wilcoxon signed-rank test\n",
    "The Wilcoxon signed-rank test is a non-parametric test to determine whether the distributions of two paired continuous samples are the same. The Wilcoxon test is the non-parametric version of the Paired Student’s t-test.\n",
    "\n",
    "Assumptions\n",
    "\n",
    "- Observations in each sample are independent\n",
    "- Observations in each sample can be ranked\n",
    "- Observations across each sample are paired\n",
    "\n",
    "Hypotheses\n",
    "\n",
    "- H0: the distributions of the paired samples are the same\n",
    "- H1: the distributions of the paired samples are not the same"
   ]
  },
  {
   "cell_type": "code",
   "execution_count": 8,
   "metadata": {},
   "outputs": [
    {
     "name": "stdout",
     "output_type": "stream",
     "text": [
      "stat=1995.000, p=0.068\n",
      "Do not reject the null hypothesis and conclude the distributions of the paired samples are the same.\n"
     ]
    }
   ],
   "source": [
    "# Example of the Paired Student's t-test\n",
    "from scipy.stats import wilcoxon\n",
    "\n",
    "# Randomly generate the data\n",
    "x1 = rng.normal(loc=0.00, scale=1, size=100)\n",
    "x2 = x1 + rng.normal(loc=0.25, scale=1, size=100)\n",
    "\n",
    "# Calculate test statistic and p-value\n",
    "stat, p = wilcoxon(x1, x2)\n",
    "\n",
    "# Interpreation\n",
    "print('stat=%.3f, p=%.3f' % (stat, p))\n",
    "if p > 0.05:\n",
    "    print('Do not reject the null hypothesis and conclude the distributions of the paired samples are the same.')\n",
    "else:\n",
    "    print('Reject the null hypothesis and conclude the distributions of the paired samples are not the same.')"
   ]
  },
  {
   "cell_type": "markdown",
   "metadata": {},
   "source": [
    "### Analysis of Variance Test (ANOVA)\n",
    "The one-way ANOVA test is a parametric test used to determine whether there is a significant difference between the means of two or more continuous samples.\n",
    "\n",
    "Assumptions\n",
    "\n",
    "- Observations in each sample are independent\n",
    "- Observations in each sample are approximately normally distributed\n",
    "- Observations in each sample have the same variance\n",
    "\n",
    "Hypotheses\n",
    "\n",
    "- H0: the means of the two or more samples are equal\n",
    "- H1: one or more of the means of the samples are not equal"
   ]
  },
  {
   "cell_type": "code",
   "execution_count": 9,
   "metadata": {},
   "outputs": [
    {
     "name": "stdout",
     "output_type": "stream",
     "text": [
      "stat=5.462, p=0.005\n",
      "Reject the null hypothesis and conclude that one or more of the means of the samples are not the same.\n"
     ]
    }
   ],
   "source": [
    "# Example of the Analysis of Variance Test\n",
    "from scipy.stats import f_oneway\n",
    "\n",
    "# Randomly generate the data\n",
    "x1 = rng.normal(loc=0.25, scale=1, size=100)\n",
    "x2 = rng.normal(loc=0.00, scale=1, size=100)\n",
    "x3 = rng.normal(loc=0.00, scale=1, size=100)\n",
    "\n",
    "# Calculate test statistic and p-value\n",
    "stat, p = f_oneway(x1, x2, x3)\n",
    "\n",
    "# Interpreation\n",
    "print('stat=%.3f, p=%.3f' % (stat, p))\n",
    "if p > 0.05:\n",
    "    print('Do not reject the null hypothesis and conclude the means of the samples are the same.')\n",
    "else:\n",
    "    print('Reject the null hypothesis and conclude that one or more of the means of the samples are not the same.')"
   ]
  },
  {
   "cell_type": "markdown",
   "metadata": {},
   "source": [
    "### Kruskal-Wallis H-test\n",
    "The Kruskal-Wallis H-test is a non-parametric test to determine whether there is a significant difference between the medians of two or more continuous samples. It is the non-parametric equivalent of the one-way ANOVA test.\n",
    "\n",
    "Assumptions\n",
    "\n",
    "- Observations in each sample are independent\n",
    "- Observations in each sample have the same variance\n",
    "\n",
    "Hypotheses\n",
    "\n",
    "- H0: the medians of the two or more samples are equal\n",
    "- H1: one or more of the medians of the samples are not equal"
   ]
  },
  {
   "cell_type": "code",
   "execution_count": 10,
   "metadata": {
    "scrolled": true
   },
   "outputs": [
    {
     "name": "stdout",
     "output_type": "stream",
     "text": [
      "stat=4.153, p=0.125\n",
      "Do not reject the null hypothesis and conclude the medians of the samples are the same.\n"
     ]
    }
   ],
   "source": [
    "from scipy.stats import kruskal\n",
    "\n",
    "# Randomly generate the data\n",
    "x1 = rng.normal(loc=0.25, scale=1, size=100)\n",
    "x2 = rng.normal(loc=0.00, scale=1, size=100)\n",
    "x3 = rng.normal(loc=0.00, scale=1, size=100)\n",
    "\n",
    "# Calculate test statistic and p-value\n",
    "stat, p = kruskal(x1, x2, x3)\n",
    "\n",
    "# Interpreation\n",
    "print('stat=%.3f, p=%.3f' % (stat, p))\n",
    "if p > 0.05:\n",
    "    print('Do not reject the null hypothesis and conclude the medians of the samples are the same.')\n",
    "else:\n",
    "    print('Reject the null hypothesis and conclude that one or more of the medians of the samples are not the same.')"
   ]
  },
  {
   "cell_type": "markdown",
   "metadata": {},
   "source": [
    "### Chi-squared Test\n",
    "The Chi-squared test tests the independence of two or more categorical variables in a contingency table.\n",
    "\n",
    "Assumptions\n",
    "\n",
    "- Observations in the sample are independent\n",
    "- The observed and expected frequencies in each cell in the contingency table are at least 5\n",
    "\n",
    "Hypotheses\n",
    "\n",
    "- H0: the variables are independent\n",
    "- H1: the variables are not independent"
   ]
  },
  {
   "cell_type": "code",
   "execution_count": 11,
   "metadata": {},
   "outputs": [
    {
     "name": "stdout",
     "output_type": "stream",
     "text": [
      "stat=46.667, p=0.000\n",
      "Reject the null hypothesis and conclude that the variables are dependent.\n"
     ]
    }
   ],
   "source": [
    "from scipy.stats import chi2_contingency\n",
    "\n",
    "# Example contingency table\n",
    "table = [[100, 80, 70],[150,  20,  80]]\n",
    "\n",
    "# Calculate test statistic and p-value\n",
    "stat, p, dof, expected = chi2_contingency(table)\n",
    "\n",
    "# Interpreation\n",
    "print('stat=%.3f, p=%.3f' % (stat, p))\n",
    "if p > 0.05:\n",
    "    print('Do not reject the null hypothesis and conclude the variables are independent.')\n",
    "else:\n",
    "    print('Reject the null hypothesis and conclude that the variables are dependent.')"
   ]
  },
  {
   "cell_type": "markdown",
   "metadata": {},
   "source": [
    "### Fisher’s exact test\n",
    "Like the Chi-squared test, Fisher’s exact test is used to test the independence of two categorical variables in a contingency table. Fisher’s exact test is used instead of a Chi-squared test when the sample sizes are small.\n",
    "\n",
    "Assumptions\n",
    "\n",
    "- Observations in the sample are independent\n",
    "\n",
    "Hypotheses\n",
    "\n",
    "- H0: the variables are independent\n",
    "- H1: the variables are not independent"
   ]
  },
  {
   "cell_type": "code",
   "execution_count": 12,
   "metadata": {},
   "outputs": [
    {
     "name": "stdout",
     "output_type": "stream",
     "text": [
      "stat=0.167, p=0.000\n",
      "Reject the null hypothesis and conclude that the variables are dependent.\n"
     ]
    }
   ],
   "source": [
    "from scipy.stats import fisher_exact\n",
    "\n",
    "# Example contingency table\n",
    "table = [[100, 80],[150,  20]]\n",
    "\n",
    "# Calculate test statistic and p-value\n",
    "stat, p = fisher_exact(table)\n",
    "\n",
    "# Interpreation\n",
    "print('stat=%.3f, p=%.3f' % (stat, p))\n",
    "if p > 0.05:\n",
    "    print('Do not reject the null hypothesis and conclude the variables are independent.')\n",
    "else:\n",
    "    print('Reject the null hypothesis and conclude that the variables are dependent.')"
   ]
  },
  {
   "cell_type": "markdown",
   "metadata": {},
   "source": [
    "### Poisson E-test\n",
    "The Poisson exact test (E-test) tests whether there is a significant difference between two Poisson rates.\n",
    "\n",
    "Assumptions\n",
    "\n",
    "- Observations in the sample are independent\n",
    "\n",
    "Hypotheses\n",
    "\n",
    "- H0: the Poisson rates are the same\n",
    "- H1: the Poisson rates are not the same"
   ]
  },
  {
   "cell_type": "code",
   "execution_count": 13,
   "metadata": {},
   "outputs": [
    {
     "name": "stdout",
     "output_type": "stream",
     "text": [
      "stat=3.385, p=0.001\n",
      "Reject the null hypothesis and conclude that the Poisson rates are not the same.\n"
     ]
    }
   ],
   "source": [
    "from statsmodels.stats.rates import test_poisson_2indep\n",
    "\n",
    "# Example inputs taken from Gu, Ng, Tang, Schucany 2008: Testing the Ratio of Two Poisson Rates\n",
    "count1 = 60\n",
    "exposure1 = 51477.5\n",
    "count2 = 30\n",
    "exposure2 = 54308.7\n",
    "\n",
    "# Calculate test statistic and p-value\n",
    "stat, p = test_poisson_2indep(count1, exposure1, count2, exposure2, method='etest-wald')\n",
    "\n",
    "# Interpreation\n",
    "print('stat=%.3f, p=%.3f' % (stat, p))\n",
    "if p > 0.05:\n",
    "    print('Do not reject the null hypothesis and conclude the Poisson rates are the same.')\n",
    "else:\n",
    "    print('Reject the null hypothesis and conclude that the Poisson rates are not the same.')"
   ]
  }
 ],
 "metadata": {
  "kernelspec": {
   "display_name": "Python 3",
   "language": "python",
   "name": "python3"
  },
  "language_info": {
   "codemirror_mode": {
    "name": "ipython",
    "version": 3
   },
   "file_extension": ".py",
   "mimetype": "text/x-python",
   "name": "python",
   "nbconvert_exporter": "python",
   "pygments_lexer": "ipython3",
   "version": "3.8.5"
  }
 },
 "nbformat": 4,
 "nbformat_minor": 4
}
