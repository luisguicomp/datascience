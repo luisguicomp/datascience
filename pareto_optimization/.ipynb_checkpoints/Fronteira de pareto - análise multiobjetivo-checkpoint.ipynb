{
 "cells": [
  {
   "cell_type": "markdown",
   "metadata": {},
   "source": [
    "# Fronteira de pareto - análise multiobjetivo"
   ]
  },
  {
   "cell_type": "markdown",
   "metadata": {},
   "source": [
    "### A Fronteira de pareto tem como objetivo selecionar as amostragens que foram superiores as demais levando em conta múltiplas variáveis "
   ]
  },
  {
   "cell_type": "code",
   "execution_count": 12,
   "metadata": {},
   "outputs": [],
   "source": [
    "import numpy as np\n",
    "import pandas as pd\n",
    "import matplotlib.pyplot as plt"
   ]
  },
  {
   "cell_type": "markdown",
   "metadata": {},
   "source": [
    "## Função que identifica a fronteira de pareto"
   ]
  },
  {
   "cell_type": "code",
   "execution_count": 8,
   "metadata": {},
   "outputs": [],
   "source": [
    "def identify_pareto(scores):\n",
    "    # Quantidade de modelos\n",
    "    population_size = scores.shape[0]\n",
    "    # Cria um indíce para a potuação da fronteira de pareto\n",
    "    population_ids = np.arange(population_size)\n",
    "    # Cria uma lista onde todos os item iniciam na fronteira de Pareto\n",
    "    pareto_front = np.ones(population_size, dtype=bool)\n",
    "    # Loop para comprarar todos os itens\n",
    "    for i in range(population_size):\n",
    "        for j in range(population_size):\n",
    "            # Verifica se `i` é dominado por `j`\n",
    "            if all(scores[j] >= scores[i]) and any(scores[j] > scores[i]):\n",
    "                # `i` é demonado por `j`, então da fronteira\n",
    "                pareto_front[i] = 0\n",
    "                break\n",
    "    # Retorna os índices da fronteira de Pareto\n",
    "    return population_ids[pareto_front]"
   ]
  },
  {
   "cell_type": "markdown",
   "metadata": {},
   "source": [
    "## Função para excutar a identificação da fronteira"
   ]
  },
  {
   "cell_type": "code",
   "execution_count": 29,
   "metadata": {},
   "outputs": [],
   "source": [
    "def pareto_teste(pareto_list, names):\n",
    "    scores = np.array(pareto_list)\n",
    "    x = scores[:, 1]\n",
    "    y = scores[:, 0]\n",
    "\n",
    "    pareto = identify_pareto(scores)\n",
    "    print ('Pareto front index vales')\n",
    "    print ('Points on Pareto front: \\n',pareto)\n",
    "\n",
    "    pareto_front = scores[pareto]\n",
    "    print ('\\nPareto front scores')\n",
    "    print (pareto_front)\n",
    "\n",
    "    pareto_front_df = pd.DataFrame(pareto_front)\n",
    "    pareto_front_df.sort_values(0, inplace=True)\n",
    "    pareto_front = pareto_front_df.values\n",
    "\n",
    "    x_all = scores[:, 1]\n",
    "    y_all = scores[:, 0]\n",
    "    x_pareto = pareto_front[:, 1]\n",
    "    y_pareto = pareto_front[:, 0]\n",
    "    \n",
    "    return x_pareto, y_pareto"
   ]
  },
  {
   "cell_type": "markdown",
   "metadata": {},
   "source": [
    "## Função para plotar o gráfico da fronteira"
   ]
  },
  {
   "cell_type": "code",
   "execution_count": 30,
   "metadata": {},
   "outputs": [],
   "source": [
    "def pareto_plot(scores,x_pareto,y_pareto):\n",
    "    plt.figure(figsize=(15,7))\n",
    "    for i in range(len(scores)):\n",
    "        x = scores[i][1]\n",
    "        y = scores[i][0]\n",
    "        if(x in x_pareto and y in y_pareto):\n",
    "          pareto, = plt.plot(x, y, 'go')\n",
    "          plt.text(x+0.025, y-0.007, names[i], fontsize=12)\n",
    "        else:\n",
    "          n_pareto, = plt.plot(x, y, 'bo')\n",
    "          plt.text(x+0.025, y-0.04, names[i], fontsize=12)\n",
    "\n",
    "    leg = plt.legend([pareto,n_pareto],['Ótimo de pareto', 'Não-ótimo de pareto'], loc='lower left')\n",
    "    colors=['blue', 'red']\n",
    "    for i, j in enumerate(leg.legendHandles):\n",
    "        j.set_color(colors[i])\n",
    "    \n",
    "    plt.plot(x_pareto, y_pareto, color='r')\n",
    "    plt.title('Análise multi-objetivo')\n",
    "    plt.xlabel('Variável A')\n",
    "    plt.ylabel('Variável B')\n",
    "    plt.show()"
   ]
  },
  {
   "cell_type": "code",
   "execution_count": 31,
   "metadata": {
    "scrolled": true
   },
   "outputs": [
    {
     "name": "stdout",
     "output_type": "stream",
     "text": [
      "Pareto front index vales\n",
      "Points on Pareto front: \n",
      " [0 3 5 6 8]\n",
      "\n",
      "Pareto front scores\n",
      "[[97 23]\n",
      " [99  4]\n",
      " [30 75]\n",
      " [15 80]\n",
      " [90 68]]\n"
     ]
    }
   ],
   "source": [
    "#Chamando as funções da análise\n",
    "names = ['A','B','C','D','E','F','G','H','I','J']\n",
    "scores = np.array([\n",
    " [97, 23],\n",
    " [55, 63],\n",
    " [80, 60],\n",
    " [99,  4],\n",
    " [26, 70],\n",
    " [30, 75],\n",
    " [15, 80],\n",
    " [66, 65],\n",
    " [90, 68]])\n",
    "\n",
    "x_pareto, y_pareto = pareto_teste(scores,names)"
   ]
  },
  {
   "cell_type": "code",
   "execution_count": 32,
   "metadata": {},
   "outputs": [
    {
     "data": {
      "image/png": "[encoded data removed]",
      "text/plain": [
       "<Figure size 720x432 with 1 Axes>"
      ]
     },
     "metadata": {
      "needs_background": "light"
     },
     "output_type": "display_data"
    }
   ],
   "source": [
    "#Plotando o gráfico da fronteira\n",
    "pareto_plot(scores,x_pareto,y_pareto)"
   ]
  }
 ],
 "metadata": {
  "kernelspec": {
   "display_name": "Python 3",
   "language": "python",
   "name": "python3"
  },
  "language_info": {
   "codemirror_mode": {
    "name": "ipython",
    "version": 3
   },
   "file_extension": ".py",
   "mimetype": "text/x-python",
   "name": "python",
   "nbconvert_exporter": "python",
   "pygments_lexer": "ipython3",
   "version": "3.8.5"
  }
 },
 "nbformat": 4,
 "nbformat_minor": 4
}
