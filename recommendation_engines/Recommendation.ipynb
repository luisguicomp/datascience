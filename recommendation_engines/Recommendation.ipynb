{
 "cells": [
  {
   "cell_type": "markdown",
   "metadata": {},
   "source": [
    "# Recommendation engines"
   ]
  },
  {
   "cell_type": "code",
   "execution_count": 1,
   "metadata": {
    "scrolled": true
   },
   "outputs": [
    {
     "data": {
      "text/html": [
       "<div>\n",
       "<style scoped>\n",
       "    .dataframe tbody tr th:only-of-type {\n",
       "        vertical-align: middle;\n",
       "    }\n",
       "\n",
       "    .dataframe tbody tr th {\n",
       "        vertical-align: top;\n",
       "    }\n",
       "\n",
       "    .dataframe thead th {\n",
       "        text-align: right;\n",
       "    }\n",
       "</style>\n",
       "<table border=\"1\" class=\"dataframe\">\n",
       "  <thead>\n",
       "    <tr style=\"text-align: right;\">\n",
       "      <th></th>\n",
       "      <th>userId</th>\n",
       "      <th>movieId</th>\n",
       "      <th>rating</th>\n",
       "      <th>timestamp</th>\n",
       "      <th>title</th>\n",
       "      <th>genres</th>\n",
       "    </tr>\n",
       "  </thead>\n",
       "  <tbody>\n",
       "    <tr>\n",
       "      <th>0</th>\n",
       "      <td>1</td>\n",
       "      <td>1</td>\n",
       "      <td>4.0</td>\n",
       "      <td>964982703</td>\n",
       "      <td>Toy Story (1995)</td>\n",
       "      <td>Adventure|Animation|Children|Comedy|Fantasy</td>\n",
       "    </tr>\n",
       "    <tr>\n",
       "      <th>1</th>\n",
       "      <td>5</td>\n",
       "      <td>1</td>\n",
       "      <td>4.0</td>\n",
       "      <td>847434962</td>\n",
       "      <td>Toy Story (1995)</td>\n",
       "      <td>Adventure|Animation|Children|Comedy|Fantasy</td>\n",
       "    </tr>\n",
       "    <tr>\n",
       "      <th>2</th>\n",
       "      <td>7</td>\n",
       "      <td>1</td>\n",
       "      <td>4.5</td>\n",
       "      <td>1106635946</td>\n",
       "      <td>Toy Story (1995)</td>\n",
       "      <td>Adventure|Animation|Children|Comedy|Fantasy</td>\n",
       "    </tr>\n",
       "    <tr>\n",
       "      <th>3</th>\n",
       "      <td>15</td>\n",
       "      <td>1</td>\n",
       "      <td>2.5</td>\n",
       "      <td>1510577970</td>\n",
       "      <td>Toy Story (1995)</td>\n",
       "      <td>Adventure|Animation|Children|Comedy|Fantasy</td>\n",
       "    </tr>\n",
       "    <tr>\n",
       "      <th>4</th>\n",
       "      <td>17</td>\n",
       "      <td>1</td>\n",
       "      <td>4.5</td>\n",
       "      <td>1305696483</td>\n",
       "      <td>Toy Story (1995)</td>\n",
       "      <td>Adventure|Animation|Children|Comedy|Fantasy</td>\n",
       "    </tr>\n",
       "  </tbody>\n",
       "</table>\n",
       "</div>"
      ],
      "text/plain": [
       "   userId  movieId  rating   timestamp             title  \\\n",
       "0       1        1     4.0   964982703  Toy Story (1995)   \n",
       "1       5        1     4.0   847434962  Toy Story (1995)   \n",
       "2       7        1     4.5  1106635946  Toy Story (1995)   \n",
       "3      15        1     2.5  1510577970  Toy Story (1995)   \n",
       "4      17        1     4.5  1305696483  Toy Story (1995)   \n",
       "\n",
       "                                        genres  \n",
       "0  Adventure|Animation|Children|Comedy|Fantasy  \n",
       "1  Adventure|Animation|Children|Comedy|Fantasy  \n",
       "2  Adventure|Animation|Children|Comedy|Fantasy  \n",
       "3  Adventure|Animation|Children|Comedy|Fantasy  \n",
       "4  Adventure|Animation|Children|Comedy|Fantasy  "
      ]
     },
     "execution_count": 1,
     "metadata": {},
     "output_type": "execute_result"
    }
   ],
   "source": [
    "import pandas as pd\n",
    "\n",
    "user_ratings_df = pd.read_csv('./user_ratings.csv')\n",
    "user_ratings_df.head()"
   ]
  },
  {
   "cell_type": "code",
   "execution_count": 2,
   "metadata": {},
   "outputs": [
    {
     "name": "stdout",
     "output_type": "stream",
     "text": [
      "Forrest Gump (1994)                 329\n",
      "Shawshank Redemption, The (1994)    317\n",
      "Pulp Fiction (1994)                 307\n",
      "Silence of the Lambs, The (1991)    279\n",
      "Matrix, The (1999)                  278\n",
      "Name: title, dtype: int64\n"
     ]
    }
   ],
   "source": [
    "# Get the counts of occurrences of each movie title\n",
    "movie_popularity = user_ratings_df[\"title\"].value_counts()\n",
    "# Inspect the most common values\n",
    "print(movie_popularity.sort_values(ascending=False).head())"
   ]
  },
  {
   "cell_type": "code",
   "execution_count": 3,
   "metadata": {},
   "outputs": [
    {
     "name": "stdout",
     "output_type": "stream",
     "text": [
      "                                     rating\n",
      "title                                      \n",
      "Gena the Crocodile (1969)               5.0\n",
      "True Stories (1986)                     5.0\n",
      "Cosmic Scrat-tastrophe (2015)           5.0\n",
      "Love and Pigeons (1985)                 5.0\n",
      "Red Sorghum (Hong gao liang) (1987)     5.0\n"
     ]
    }
   ],
   "source": [
    "# Find the mean of the ratings given to each title\n",
    "average_rating_df = user_ratings_df[[\"title\", \"rating\"]].groupby('title').mean()\n",
    "\n",
    "# Order the entries by highest average rating to lowest\n",
    "sorted_average_ratings = average_rating_df.sort_values(by='rating', ascending=False)\n",
    "\n",
    "# Inspect the top movies\n",
    "print(sorted_average_ratings.head())"
   ]
  },
  {
   "cell_type": "code",
   "execution_count": 4,
   "metadata": {},
   "outputs": [
    {
     "name": "stdout",
     "output_type": "stream",
     "text": [
      "Index(['Forrest Gump (1994)', 'Shawshank Redemption, The (1994)',\n",
      "       'Pulp Fiction (1994)', 'Silence of the Lambs, The (1991)',\n",
      "       'Matrix, The (1999)', 'Star Wars: Episode IV - A New Hope (1977)',\n",
      "       'Jurassic Park (1993)', 'Braveheart (1995)',\n",
      "       'Terminator 2: Judgment Day (1991)', 'Schindler's List (1993)',\n",
      "       ...\n",
      "       'Chasing Amy (1997)', 'Mystic River (2003)',\n",
      "       'Grand Budapest Hotel, The (2014)', 'Blow (2001)',\n",
      "       'Army of Darkness (1993)', 'Training Day (2001)', 'Bad Boys (1995)',\n",
      "       'Splash (1984)', 'Mulholland Drive (2001)',\n",
      "       'The Devil's Advocate (1997)'],\n",
      "      dtype='object', length=437)\n"
     ]
    }
   ],
   "source": [
    "# Create a list of only the frequently watched movies\n",
    "movie_popularity = user_ratings_df[\"title\"].value_counts()\n",
    "popular_movies = movie_popularity[movie_popularity > 50].index\n",
    "\n",
    "print(popular_movies)"
   ]
  },
  {
   "cell_type": "code",
   "execution_count": 5,
   "metadata": {},
   "outputs": [
    {
     "name": "stdout",
     "output_type": "stream",
     "text": [
      "       userId  movieId  rating   timestamp                 title  \\\n",
      "0           1        1     4.0   964982703      Toy Story (1995)   \n",
      "1           5        1     4.0   847434962      Toy Story (1995)   \n",
      "2           7        1     4.5  1106635946      Toy Story (1995)   \n",
      "3          15        1     2.5  1510577970      Toy Story (1995)   \n",
      "4          17        1     4.5  1305696483      Toy Story (1995)   \n",
      "...       ...      ...     ...         ...                   ...   \n",
      "79246     603     1997     4.0   953925513  Exorcist, The (1973)   \n",
      "79247     606     1997     3.0  1178911117  Exorcist, The (1973)   \n",
      "79248     607     1997     5.0   963079420  Exorcist, The (1973)   \n",
      "79249     608     1997     4.5  1117502891  Exorcist, The (1973)   \n",
      "79250     610     1997     4.0  1479543021  Exorcist, The (1973)   \n",
      "\n",
      "                                            genres  \n",
      "0      Adventure|Animation|Children|Comedy|Fantasy  \n",
      "1      Adventure|Animation|Children|Comedy|Fantasy  \n",
      "2      Adventure|Animation|Children|Comedy|Fantasy  \n",
      "3      Adventure|Animation|Children|Comedy|Fantasy  \n",
      "4      Adventure|Animation|Children|Comedy|Fantasy  \n",
      "...                                            ...  \n",
      "79246                               Horror|Mystery  \n",
      "79247                               Horror|Mystery  \n",
      "79248                               Horror|Mystery  \n",
      "79249                               Horror|Mystery  \n",
      "79250                               Horror|Mystery  \n",
      "\n",
      "[40712 rows x 6 columns]\n"
     ]
    }
   ],
   "source": [
    "# Use this popular_movies list to filter the original DataFrame\n",
    "popular_movies_rankings = user_ratings_df[user_ratings_df[\"title\"].isin(popular_movies)]\n",
    "\n",
    "# Inspect the movies watched over 50 times\n",
    "print(popular_movies_rankings)"
   ]
  },
  {
   "cell_type": "code",
   "execution_count": 6,
   "metadata": {
    "scrolled": true
   },
   "outputs": [
    {
     "name": "stdout",
     "output_type": "stream",
     "text": [
      "                                                      rating\n",
      "title                                                       \n",
      "Shawshank Redemption, The (1994)                    4.429022\n",
      "Godfather, The (1972)                               4.289062\n",
      "Fight Club (1999)                                   4.272936\n",
      "Cool Hand Luke (1967)                               4.271930\n",
      "Dr. Strangelove or: How I Learned to Stop Worry...  4.268041\n"
     ]
    }
   ],
   "source": [
    "# Find the average rating given to these frequently watched films\n",
    "popular_movies_average_rankings = popular_movies_rankings[[\"title\", \"rating\"]].groupby('title').mean()\n",
    "print(popular_movies_average_rankings.sort_values(by=\"rating\", ascending=False).head())"
   ]
  },
  {
   "cell_type": "markdown",
   "metadata": {},
   "source": [
    "## Permutations"
   ]
  },
  {
   "cell_type": "code",
   "execution_count": 7,
   "metadata": {},
   "outputs": [],
   "source": [
    "from itertools import permutations\n",
    "\n",
    "# Create the function to find all permutations\n",
    "def find_movie_pairs(x):\n",
    "  pairs = pd.DataFrame(list(permutations(x.values, 2)),\n",
    "                       columns=['movie_a', 'movie_b'])\n",
    "  return pairs"
   ]
  },
  {
   "cell_type": "code",
   "execution_count": 8,
   "metadata": {
    "scrolled": true
   },
   "outputs": [
    {
     "name": "stdout",
     "output_type": "stream",
     "text": [
      "                   movie_a                           movie_b\n",
      "0         Toy Story (1995)           Grumpier Old Men (1995)\n",
      "1         Toy Story (1995)                       Heat (1995)\n",
      "2         Toy Story (1995)       Seven (a.k.a. Se7en) (1995)\n",
      "3         Toy Story (1995)        Usual Suspects, The (1995)\n",
      "4         Toy Story (1995)        From Dusk Till Dawn (1996)\n",
      "...                    ...                               ...\n",
      "60793295         31 (2016)                 Gen-X Cops (1999)\n",
      "60793296         31 (2016)                  Bloodmoon (1997)\n",
      "60793297         31 (2016)  Sympathy for the Underdog (1971)\n",
      "60793298         31 (2016)                     Hazard (2005)\n",
      "60793299         31 (2016)                Blair Witch (2016)\n",
      "\n",
      "[60793300 rows x 2 columns]\n"
     ]
    }
   ],
   "source": [
    "# Apply the function to the title column and reset the index\n",
    "movie_combinations = user_ratings_df.groupby('userId')['title'].apply(find_movie_pairs).reset_index(drop=True)\n",
    "\n",
    "print(movie_combinations)"
   ]
  },
  {
   "cell_type": "code",
   "execution_count": 9,
   "metadata": {},
   "outputs": [
    {
     "name": "stdout",
     "output_type": "stream",
     "text": [
      "      movie_a                                     movie_b  size\n",
      "0  '71 (2014)                 (500) Days of Summer (2009)     1\n",
      "1  '71 (2014)                  10 Cloverfield Lane (2016)     1\n",
      "2  '71 (2014)                            127 Hours (2010)     1\n",
      "3  '71 (2014)  13 Assassins (Jûsan-nin no shikaku) (2010)     1\n",
      "4  '71 (2014)                             13 Hours (2016)     1\n"
     ]
    }
   ],
   "source": [
    "# Calculate how often each item in movie_a occurs with the items in movie_b\n",
    "combination_counts = movie_combinations.groupby(['movie_a', 'movie_b']).size()\n",
    "\n",
    "# Convert the results to a DataFrame and reset the index\n",
    "combination_counts_df = combination_counts.to_frame(name='size').reset_index()\n",
    "print(combination_counts_df.head())"
   ]
  },
  {
   "cell_type": "code",
   "execution_count": 10,
   "metadata": {},
   "outputs": [
    {
     "data": {
      "text/html": [
       "<div>\n",
       "<style scoped>\n",
       "    .dataframe tbody tr th:only-of-type {\n",
       "        vertical-align: middle;\n",
       "    }\n",
       "\n",
       "    .dataframe tbody tr th {\n",
       "        vertical-align: top;\n",
       "    }\n",
       "\n",
       "    .dataframe thead th {\n",
       "        text-align: right;\n",
       "    }\n",
       "</style>\n",
       "<table border=\"1\" class=\"dataframe\">\n",
       "  <thead>\n",
       "    <tr style=\"text-align: right;\">\n",
       "      <th></th>\n",
       "      <th>movie_a</th>\n",
       "      <th>movie_b</th>\n",
       "      <th>size</th>\n",
       "    </tr>\n",
       "  </thead>\n",
       "  <tbody>\n",
       "    <tr>\n",
       "      <th>20672049</th>\n",
       "      <td>Shawshank Redemption, The (1994)</td>\n",
       "      <td>Forrest Gump (1994)</td>\n",
       "      <td>231</td>\n",
       "    </tr>\n",
       "    <tr>\n",
       "      <th>8538313</th>\n",
       "      <td>Forrest Gump (1994)</td>\n",
       "      <td>Shawshank Redemption, The (1994)</td>\n",
       "      <td>231</td>\n",
       "    </tr>\n",
       "    <tr>\n",
       "      <th>8537603</th>\n",
       "      <td>Forrest Gump (1994)</td>\n",
       "      <td>Pulp Fiction (1994)</td>\n",
       "      <td>230</td>\n",
       "    </tr>\n",
       "    <tr>\n",
       "      <th>18567035</th>\n",
       "      <td>Pulp Fiction (1994)</td>\n",
       "      <td>Forrest Gump (1994)</td>\n",
       "      <td>230</td>\n",
       "    </tr>\n",
       "    <tr>\n",
       "      <th>20675275</th>\n",
       "      <td>Shawshank Redemption, The (1994)</td>\n",
       "      <td>Pulp Fiction (1994)</td>\n",
       "      <td>222</td>\n",
       "    </tr>\n",
       "    <tr>\n",
       "      <th>...</th>\n",
       "      <td>...</td>\n",
       "      <td>...</td>\n",
       "      <td>...</td>\n",
       "    </tr>\n",
       "    <tr>\n",
       "      <th>10737102</th>\n",
       "      <td>History Boys, The (2006)</td>\n",
       "      <td>8 Seconds (1994)</td>\n",
       "      <td>1</td>\n",
       "    </tr>\n",
       "    <tr>\n",
       "      <th>10737100</th>\n",
       "      <td>History Boys, The (2006)</td>\n",
       "      <td>7th Voyage of Sinbad, The (1958)</td>\n",
       "      <td>1</td>\n",
       "    </tr>\n",
       "    <tr>\n",
       "      <th>10737099</th>\n",
       "      <td>History Boys, The (2006)</td>\n",
       "      <td>6th Day, The (2000)</td>\n",
       "      <td>1</td>\n",
       "    </tr>\n",
       "    <tr>\n",
       "      <th>10737098</th>\n",
       "      <td>History Boys, The (2006)</td>\n",
       "      <td>54 (1998)</td>\n",
       "      <td>1</td>\n",
       "    </tr>\n",
       "    <tr>\n",
       "      <th>26309180</th>\n",
       "      <td>À nous la liberté (Freedom for Us) (1931)</td>\n",
       "      <td>X-Files: Fight the Future, The (1998)</td>\n",
       "      <td>1</td>\n",
       "    </tr>\n",
       "  </tbody>\n",
       "</table>\n",
       "<p>26309181 rows × 3 columns</p>\n",
       "</div>"
      ],
      "text/plain": [
       "                                            movie_a  \\\n",
       "20672049           Shawshank Redemption, The (1994)   \n",
       "8538313                         Forrest Gump (1994)   \n",
       "8537603                         Forrest Gump (1994)   \n",
       "18567035                        Pulp Fiction (1994)   \n",
       "20675275           Shawshank Redemption, The (1994)   \n",
       "...                                             ...   \n",
       "10737102                   History Boys, The (2006)   \n",
       "10737100                   History Boys, The (2006)   \n",
       "10737099                   History Boys, The (2006)   \n",
       "10737098                   History Boys, The (2006)   \n",
       "26309180  À nous la liberté (Freedom for Us) (1931)   \n",
       "\n",
       "                                        movie_b  size  \n",
       "20672049                    Forrest Gump (1994)   231  \n",
       "8538313        Shawshank Redemption, The (1994)   231  \n",
       "8537603                     Pulp Fiction (1994)   230  \n",
       "18567035                    Forrest Gump (1994)   230  \n",
       "20675275                    Pulp Fiction (1994)   222  \n",
       "...                                         ...   ...  \n",
       "10737102                       8 Seconds (1994)     1  \n",
       "10737100       7th Voyage of Sinbad, The (1958)     1  \n",
       "10737099                    6th Day, The (2000)     1  \n",
       "10737098                              54 (1998)     1  \n",
       "26309180  X-Files: Fight the Future, The (1998)     1  \n",
       "\n",
       "[26309181 rows x 3 columns]"
      ]
     },
     "execution_count": 10,
     "metadata": {},
     "output_type": "execute_result"
    }
   ],
   "source": [
    "import matplotlib.pyplot as plt\n",
    "\n",
    "# Sort the counts from highest to lowest\n",
    "combination_counts_df.sort_values('size', ascending=False, inplace=True)\n",
    "\n",
    "combination_counts_df"
   ]
  },
  {
   "cell_type": "code",
   "execution_count": 11,
   "metadata": {},
   "outputs": [
    {
     "data": {
      "image/png": "[encoded data removed]",
      "text/plain": [
       "<Figure size 432x288 with 1 Axes>"
      ]
     },
     "metadata": {
      "needs_background": "light"
     },
     "output_type": "display_data"
    }
   ],
   "source": [
    "# Find the movies most frequently watched by people who watched Thor\n",
    "thor_df = combination_counts_df[combination_counts_df['movie_a'] == 'Forrest Gump (1994)']\n",
    "thor_df\n",
    "# Plot the results\n",
    "thor_df.plot.bar(x=\"movie_b\")\n",
    "plt.show()"
   ]
  },
  {
   "cell_type": "markdown",
   "metadata": {},
   "source": [
    "## Baseado em conteúdo"
   ]
  },
  {
   "cell_type": "code",
   "execution_count": 21,
   "metadata": {},
   "outputs": [
    {
     "data": {
      "text/plain": [
       "title                                       \n",
       "'71 (2014)                                 0                      Action|Drama|Thriller|War\n",
       "'Hellboy': The Seeds of Creation (2004)    0    Action|Adventure|Comedy|Documentary|Fantasy\n",
       "'Round Midnight (1986)                     0                                  Drama|Musical\n",
       "'Salem's Lot (2004)                        0                  Drama|Horror|Mystery|Thriller\n",
       "'Til There Was You (1997)                  0                                  Drama|Romance\n",
       "                                                                   ...                     \n",
       "eXistenZ (1999)                            0                         Action|Sci-Fi|Thriller\n",
       "xXx (2002)                                 0                          Action|Crime|Thriller\n",
       "xXx: State of the Union (2005)             0                          Action|Crime|Thriller\n",
       "¡Three Amigos! (1986)                      0                                 Comedy|Western\n",
       "À nous la liberté (Freedom for Us) (1931)  0                                 Comedy|Musical\n",
       "Name: genres, Length: 9720, dtype: object"
      ]
     },
     "execution_count": 21,
     "metadata": {},
     "output_type": "execute_result"
    }
   ],
   "source": [
    "teste = user_ratings_df[[\"title\", \"genres\"]].groupby('title')[\"genres\"].apply(pd.Series.mode)"
   ]
  },
  {
   "cell_type": "code",
   "execution_count": 15,
   "metadata": {
    "scrolled": true
   },
   "outputs": [
    {
     "ename": "KeyError",
     "evalue": "'name'",
     "output_type": "error",
     "traceback": [
      "\u001b[1;31m---------------------------------------------------------------------------\u001b[0m",
      "\u001b[1;31mKeyError\u001b[0m                                  Traceback (most recent call last)",
      "\u001b[1;32m~\\Anaconda3\\lib\\site-packages\\pandas\\core\\indexes\\base.py\u001b[0m in \u001b[0;36mget_loc\u001b[1;34m(self, key, method, tolerance)\u001b[0m\n\u001b[0;32m   3360\u001b[0m             \u001b[1;32mtry\u001b[0m\u001b[1;33m:\u001b[0m\u001b[1;33m\u001b[0m\u001b[1;33m\u001b[0m\u001b[0m\n\u001b[1;32m-> 3361\u001b[1;33m                 \u001b[1;32mreturn\u001b[0m \u001b[0mself\u001b[0m\u001b[1;33m.\u001b[0m\u001b[0m_engine\u001b[0m\u001b[1;33m.\u001b[0m\u001b[0mget_loc\u001b[0m\u001b[1;33m(\u001b[0m\u001b[0mcasted_key\u001b[0m\u001b[1;33m)\u001b[0m\u001b[1;33m\u001b[0m\u001b[1;33m\u001b[0m\u001b[0m\n\u001b[0m\u001b[0;32m   3362\u001b[0m             \u001b[1;32mexcept\u001b[0m \u001b[0mKeyError\u001b[0m \u001b[1;32mas\u001b[0m \u001b[0merr\u001b[0m\u001b[1;33m:\u001b[0m\u001b[1;33m\u001b[0m\u001b[1;33m\u001b[0m\u001b[0m\n",
      "\u001b[1;32m~\\Anaconda3\\lib\\site-packages\\pandas\\_libs\\index.pyx\u001b[0m in \u001b[0;36mpandas._libs.index.IndexEngine.get_loc\u001b[1;34m()\u001b[0m\n",
      "\u001b[1;32m~\\Anaconda3\\lib\\site-packages\\pandas\\_libs\\index.pyx\u001b[0m in \u001b[0;36mpandas._libs.index.IndexEngine.get_loc\u001b[1;34m()\u001b[0m\n",
      "\u001b[1;32mpandas\\_libs\\hashtable_class_helper.pxi\u001b[0m in \u001b[0;36mpandas._libs.hashtable.PyObjectHashTable.get_item\u001b[1;34m()\u001b[0m\n",
      "\u001b[1;32mpandas\\_libs\\hashtable_class_helper.pxi\u001b[0m in \u001b[0;36mpandas._libs.hashtable.PyObjectHashTable.get_item\u001b[1;34m()\u001b[0m\n",
      "\u001b[1;31mKeyError\u001b[0m: 'name'",
      "\nThe above exception was the direct cause of the following exception:\n",
      "\u001b[1;31mKeyError\u001b[0m                                  Traceback (most recent call last)",
      "\u001b[1;32m<ipython-input-15-c1cd1a8a8cc2>\u001b[0m in \u001b[0;36m<module>\u001b[1;34m\u001b[0m\n\u001b[0;32m      1\u001b[0m \u001b[1;31m# Select only the rows with values in the name column equal to Toy Story\u001b[0m\u001b[1;33m\u001b[0m\u001b[1;33m\u001b[0m\u001b[1;33m\u001b[0m\u001b[0m\n\u001b[1;32m----> 2\u001b[1;33m \u001b[0mtoy_story_genres\u001b[0m \u001b[1;33m=\u001b[0m \u001b[0muser_ratings_df\u001b[0m\u001b[1;33m[\u001b[0m\u001b[0muser_ratings_df\u001b[0m\u001b[1;33m[\u001b[0m\u001b[1;34m'name'\u001b[0m\u001b[1;33m]\u001b[0m \u001b[1;33m==\u001b[0m \u001b[1;34m'Toy Story'\u001b[0m\u001b[1;33m]\u001b[0m\u001b[1;33m\u001b[0m\u001b[1;33m\u001b[0m\u001b[0m\n\u001b[0m\u001b[0;32m      3\u001b[0m \u001b[1;33m\u001b[0m\u001b[0m\n\u001b[0;32m      4\u001b[0m \u001b[1;31m# Create cross-tabulated DataFrame from name and genre_list columns\u001b[0m\u001b[1;33m\u001b[0m\u001b[1;33m\u001b[0m\u001b[1;33m\u001b[0m\u001b[0m\n\u001b[0;32m      5\u001b[0m \u001b[0mmovie_cross_table\u001b[0m \u001b[1;33m=\u001b[0m \u001b[0mpd\u001b[0m\u001b[1;33m.\u001b[0m\u001b[0mcrosstab\u001b[0m\u001b[1;33m(\u001b[0m\u001b[0muser_ratings_df\u001b[0m\u001b[1;33m[\u001b[0m\u001b[1;34m'name'\u001b[0m\u001b[1;33m]\u001b[0m\u001b[1;33m,\u001b[0m \u001b[0muser_ratings_df\u001b[0m\u001b[1;33m[\u001b[0m\u001b[1;34m'genre_list'\u001b[0m\u001b[1;33m]\u001b[0m\u001b[1;33m)\u001b[0m\u001b[1;33m\u001b[0m\u001b[1;33m\u001b[0m\u001b[0m\n",
      "\u001b[1;32m~\\Anaconda3\\lib\\site-packages\\pandas\\core\\frame.py\u001b[0m in \u001b[0;36m__getitem__\u001b[1;34m(self, key)\u001b[0m\n\u001b[0;32m   3456\u001b[0m             \u001b[1;32mif\u001b[0m \u001b[0mself\u001b[0m\u001b[1;33m.\u001b[0m\u001b[0mcolumns\u001b[0m\u001b[1;33m.\u001b[0m\u001b[0mnlevels\u001b[0m \u001b[1;33m>\u001b[0m \u001b[1;36m1\u001b[0m\u001b[1;33m:\u001b[0m\u001b[1;33m\u001b[0m\u001b[1;33m\u001b[0m\u001b[0m\n\u001b[0;32m   3457\u001b[0m                 \u001b[1;32mreturn\u001b[0m \u001b[0mself\u001b[0m\u001b[1;33m.\u001b[0m\u001b[0m_getitem_multilevel\u001b[0m\u001b[1;33m(\u001b[0m\u001b[0mkey\u001b[0m\u001b[1;33m)\u001b[0m\u001b[1;33m\u001b[0m\u001b[1;33m\u001b[0m\u001b[0m\n\u001b[1;32m-> 3458\u001b[1;33m             \u001b[0mindexer\u001b[0m \u001b[1;33m=\u001b[0m \u001b[0mself\u001b[0m\u001b[1;33m.\u001b[0m\u001b[0mcolumns\u001b[0m\u001b[1;33m.\u001b[0m\u001b[0mget_loc\u001b[0m\u001b[1;33m(\u001b[0m\u001b[0mkey\u001b[0m\u001b[1;33m)\u001b[0m\u001b[1;33m\u001b[0m\u001b[1;33m\u001b[0m\u001b[0m\n\u001b[0m\u001b[0;32m   3459\u001b[0m             \u001b[1;32mif\u001b[0m \u001b[0mis_integer\u001b[0m\u001b[1;33m(\u001b[0m\u001b[0mindexer\u001b[0m\u001b[1;33m)\u001b[0m\u001b[1;33m:\u001b[0m\u001b[1;33m\u001b[0m\u001b[1;33m\u001b[0m\u001b[0m\n\u001b[0;32m   3460\u001b[0m                 \u001b[0mindexer\u001b[0m \u001b[1;33m=\u001b[0m \u001b[1;33m[\u001b[0m\u001b[0mindexer\u001b[0m\u001b[1;33m]\u001b[0m\u001b[1;33m\u001b[0m\u001b[1;33m\u001b[0m\u001b[0m\n",
      "\u001b[1;32m~\\Anaconda3\\lib\\site-packages\\pandas\\core\\indexes\\base.py\u001b[0m in \u001b[0;36mget_loc\u001b[1;34m(self, key, method, tolerance)\u001b[0m\n\u001b[0;32m   3361\u001b[0m                 \u001b[1;32mreturn\u001b[0m \u001b[0mself\u001b[0m\u001b[1;33m.\u001b[0m\u001b[0m_engine\u001b[0m\u001b[1;33m.\u001b[0m\u001b[0mget_loc\u001b[0m\u001b[1;33m(\u001b[0m\u001b[0mcasted_key\u001b[0m\u001b[1;33m)\u001b[0m\u001b[1;33m\u001b[0m\u001b[1;33m\u001b[0m\u001b[0m\n\u001b[0;32m   3362\u001b[0m             \u001b[1;32mexcept\u001b[0m \u001b[0mKeyError\u001b[0m \u001b[1;32mas\u001b[0m \u001b[0merr\u001b[0m\u001b[1;33m:\u001b[0m\u001b[1;33m\u001b[0m\u001b[1;33m\u001b[0m\u001b[0m\n\u001b[1;32m-> 3363\u001b[1;33m                 \u001b[1;32mraise\u001b[0m \u001b[0mKeyError\u001b[0m\u001b[1;33m(\u001b[0m\u001b[0mkey\u001b[0m\u001b[1;33m)\u001b[0m \u001b[1;32mfrom\u001b[0m \u001b[0merr\u001b[0m\u001b[1;33m\u001b[0m\u001b[1;33m\u001b[0m\u001b[0m\n\u001b[0m\u001b[0;32m   3364\u001b[0m \u001b[1;33m\u001b[0m\u001b[0m\n\u001b[0;32m   3365\u001b[0m         \u001b[1;32mif\u001b[0m \u001b[0mis_scalar\u001b[0m\u001b[1;33m(\u001b[0m\u001b[0mkey\u001b[0m\u001b[1;33m)\u001b[0m \u001b[1;32mand\u001b[0m \u001b[0misna\u001b[0m\u001b[1;33m(\u001b[0m\u001b[0mkey\u001b[0m\u001b[1;33m)\u001b[0m \u001b[1;32mand\u001b[0m \u001b[1;32mnot\u001b[0m \u001b[0mself\u001b[0m\u001b[1;33m.\u001b[0m\u001b[0mhasnans\u001b[0m\u001b[1;33m:\u001b[0m\u001b[1;33m\u001b[0m\u001b[1;33m\u001b[0m\u001b[0m\n",
      "\u001b[1;31mKeyError\u001b[0m: 'name'"
     ]
    }
   ],
   "source": [
    "# Select only the rows with values in the name column equal to Toy Story\n",
    "toy_story_genres = movie_genre_df[movie_genre_df['name'] == 'Toy Story']\n",
    "\n",
    "# Create cross-tabulated DataFrame from name and genre_list columns\n",
    "movie_cross_table = pd.crosstab(movie_genre_df['name'], movie_genre_df['genre_list'])\n",
    "\n",
    "# Select only the rows with Toy Story as the index\n",
    "toy_story_genres_ct = movie_cross_table[movie_cross_table.index == 'Toy Story']\n",
    "print(toy_story_genres_ct)"
   ]
  },
  {
   "cell_type": "markdown",
   "metadata": {},
   "source": [
    "## Similarity: Jaccard\n",
    "- Only binary values"
   ]
  },
  {
   "cell_type": "code",
   "execution_count": null,
   "metadata": {},
   "outputs": [],
   "source": [
    "# Import numpy and the distance metric\n",
    "import numpy as np\n",
    "from sklearn.metrics import jaccard_score\n",
    "\n",
    "# Extract just the rows containing GoldenEye and Toy Story\n",
    "goldeneye_values = movie_cross_table.loc['GoldenEye'].values\n",
    "toy_story_values = movie_cross_table.loc['Toy Story'].values\n",
    "\n",
    "# Find the similarity between GoldenEye and Toy Story\n",
    "print(jaccard_score(goldeneye_values, toy_story_values))"
   ]
  },
  {
   "cell_type": "markdown",
   "metadata": {},
   "source": [
    "### Distance between all items"
   ]
  },
  {
   "cell_type": "code",
   "execution_count": null,
   "metadata": {},
   "outputs": [],
   "source": [
    "# Import functions from scipy\n",
    "from scipy.spatial.distance import pdist, squareform\n",
    "\n",
    "# Calculate all pairwise distances\n",
    "jaccard_distances = pdist(movie_cross_table.values, metric='jaccard')\n",
    "\n",
    "# Convert the distances to a square matrix\n",
    "jaccard_similarity_array = 1 - squareform(jaccard_distances)\n",
    "\n",
    "# Wrap the array in a pandas DataFrame\n",
    "jaccard_similarity_df = pd.DataFrame(jaccard_similarity_array, index=movie_cross_table.index, columns=movie_cross_table.index)\n",
    "\n",
    "# Print the top 5 rows of the DataFrame\n",
    "print(jaccard_similarity_df.head())"
   ]
  },
  {
   "cell_type": "code",
   "execution_count": null,
   "metadata": {},
   "outputs": [],
   "source": [
    "# Wrap the preloaded array in a DataFrame\n",
    "jaccard_similarity_df = pd.DataFrame(jaccard_similarity_array, index=movie_cross_table.index, columns=movie_cross_table.index)\n",
    "\n",
    "# Find the values for the movie Thor\n",
    "jaccard_similarity_series = jaccard_similarity_df.loc['Thor']\n",
    "\n",
    "# Sort these values from highest to lowest\n",
    "ordered_similarities = jaccard_similarity_series.sort_values(ascending=False)\n",
    "\n",
    "# Print the results\n",
    "print(ordered_similarities)"
   ]
  },
  {
   "cell_type": "markdown",
   "metadata": {},
   "source": [
    "## Similarities based on text\n",
    " - Term Frequency - Inverse Document Frequency (TF-IDF)"
   ]
  },
  {
   "cell_type": "code",
   "execution_count": null,
   "metadata": {},
   "outputs": [],
   "source": [
    "from sklearn.feature_extraction.text import TfidfVectorizer\n",
    "\n",
    "# Instantiate the vectorizer object to the vectorizer variable\n",
    "vectorizer = TfidfVectorizer(min_df=2, max_df=7)\n",
    "\n",
    "# Fit and transform the plot column\n",
    "vectorized_data = vectorizer.fit_transform(df_plots['Plot'])\n",
    "\n",
    "# Look at the features generated\n",
    "print(vectorizer.get_feature_names())"
   ]
  },
  {
   "cell_type": "code",
   "execution_count": null,
   "metadata": {},
   "outputs": [],
   "source": [
    "from sklearn.feature_extraction.text import TfidfVectorizer\n",
    "\n",
    "# Instantiate the vectorizer object and transform the plot column\n",
    "vectorizer = TfidfVectorizer(max_df=0.7, min_df=2)\n",
    "vectorized_data = vectorizer.fit_transform(df_plots['Plot']) \n",
    "\n",
    "# Create Dataframe from TF-IDFarray\n",
    "tfidf_df = pd.DataFrame(vectorized_data.toarray(), columns=vectorizer.get_feature_names())\n",
    "# Assign the movie titles to the index and inspect\n",
    "tfidf_df.index = df_plots['Title']\n",
    "print(tfidf_df.head())"
   ]
  },
  {
   "cell_type": "code",
   "execution_count": null,
   "metadata": {},
   "outputs": [],
   "source": [
    "# Import cosine_similarity measure\n",
    "from sklearn.metrics.pairwise import cosine_similarity\n",
    "\n",
    "# Create the array of cosine similarity values\n",
    "cosine_similarity_array = cosine_similarity(tfidf_summary_df)\n",
    "\n",
    "# Wrap the array in a pandas DataFrame\n",
    "cosine_similarity_df = pd.DataFrame(cosine_similarity_array, index=tfidf_summary_df.index, columns=tfidf_summary_df.index)\n",
    "\n",
    "# Print the top 5 rows of the DataFrame\n",
    "print(cosine_similarity_df.head())"
   ]
  },
  {
   "cell_type": "code",
   "execution_count": null,
   "metadata": {},
   "outputs": [],
   "source": [
    "# Wrap the preloaded array in a DataFrame\n",
    "cosine_similarity_df = pd.DataFrame(cosine_similarity_array, index=tfidf_summary_df.index, columns=tfidf_summary_df.index)\n",
    "\n",
    "# Find the values for the movie Rio\n",
    "cosine_similarity_series = cosine_similarity_df.loc['Rio']\n",
    "\n",
    "# Sort these values highest to lowest\n",
    "ordered_similarities = cosine_similarity_series.sort_values(ascending=False)\n",
    "\n",
    "# Print the results\n",
    "print(ordered_similarities)"
   ]
  },
  {
   "cell_type": "markdown",
   "metadata": {},
   "source": [
    "## User profile"
   ]
  },
  {
   "cell_type": "code",
   "execution_count": null,
   "metadata": {},
   "outputs": [],
   "source": [
    "list_of_movies_enjoyed = ['Captain America: The First Avenger', 'Green Lantern', 'The Avengers']\n",
    "\n",
    "# Create a subset of only the movies the user has enjoyed\n",
    "movies_enjoyed_df = tfidf_summary_df.reindex(list_of_movies_enjoyed)\n",
    "\n",
    "# Generate the user profile by finding the average scores of movies they enjoyed\n",
    "user_prof = movies_enjoyed_df.mean()\n",
    "\n",
    "# Inspect the results\n",
    "print(user_prof)"
   ]
  },
  {
   "cell_type": "code",
   "execution_count": null,
   "metadata": {},
   "outputs": [],
   "source": [
    "from sklearn.metrics.pairwise import cosine_similarity\n",
    "\n",
    "# Find subset of tfidf_df that does not include movies in list_of_movies_enjoyed\n",
    "tfidf_subset_df = tfidf_df.drop(list_of_movies_enjoyed, axis=0)\n",
    "\n",
    "# Calculate the cosine_similarity and wrap it in a DataFrame\n",
    "similarity_array = cosine_similarity(user_prof.values.reshape(1, -1), tfidf_subset_df)\n",
    "similarity_df = pd.DataFrame(similarity_array.T, index=tfidf_subset_df.index, columns=[\"similarity_score\"])\n",
    "\n",
    "# Sort the values from high to low by the values in the similarity_score\n",
    "sorted_similarity_df = similarity_df.sort_values(by=\"similarity_score\", ascending=False)\n",
    "\n",
    "# Inspect the most similar to the user preferences\n",
    "print(sorted_similarity_df.head())"
   ]
  },
  {
   "cell_type": "markdown",
   "metadata": {},
   "source": [
    "## Colaborative Filter\n",
    "- Pivot method"
   ]
  },
  {
   "cell_type": "code",
   "execution_count": null,
   "metadata": {},
   "outputs": [],
   "source": [
    "# Transform the table\n",
    "user_ratings_table = user_ratings.pivot(index='userId', columns='title', values='rating')\n",
    "# Inspect the transformed table\n",
    "print(user_ratings_table.head())"
   ]
  },
  {
   "cell_type": "code",
   "execution_count": null,
   "metadata": {},
   "outputs": [],
   "source": [
    "# Get the average rating for each user \n",
    "avg_ratings = user_ratings_table.mean(axis=1)\n",
    "\n",
    "# Center each users ratings around 0\n",
    "user_ratings_table_centered = user_ratings_table.sub(avg_ratings, axis=0)\n",
    "\n",
    "# Fill in the missing data with 0s\n",
    "user_ratings_table_normed = user_ratings_table_centered.fillna(0)"
   ]
  },
  {
   "cell_type": "code",
   "execution_count": null,
   "metadata": {},
   "outputs": [],
   "source": [
    "# Transpose the user_ratings_subset DataFrame\n",
    "movie_ratings_subset = user_ratings_subset.T\n",
    "\n",
    "print(movie_ratings_subset)"
   ]
  },
  {
   "cell_type": "code",
   "execution_count": null,
   "metadata": {},
   "outputs": [],
   "source": [
    "from sklearn.metrics.pairwise import cosine_similarity\n",
    "\n",
    "# Assign the arrays to variables\n",
    "sw_IV = movie_ratings_centered.loc['Star Wars: Episode IV - A New Hope (1977)', :].values.reshape(1, -1)\n",
    "sw_V = movie_ratings_centered.loc['Star Wars: Episode V - The Empire Strikes Back (1980)', :].values.reshape(1, -1)\n",
    "\n",
    "# Find the similarity between two Star Wars movies\n",
    "similarity_A = cosine_similarity(sw_IV, sw_V)\n",
    "print(similarity_A)"
   ]
  },
  {
   "cell_type": "code",
   "execution_count": null,
   "metadata": {},
   "outputs": [],
   "source": [
    "from sklearn.metrics.pairwise import cosine_similarity\n",
    "\n",
    "# Generate the similarity matrix\n",
    "similarities = cosine_similarity(movie_ratings_centered)\n",
    "\n",
    "# Wrap the similarities in a DataFrame\n",
    "cosine_similarity_df = pd.DataFrame(similarities, index=movie_ratings_centered.index, columns=movie_ratings_centered.index)\n",
    "\n",
    "# Find the similarity values for a specific movie\n",
    "cosine_similarity_series = cosine_similarity_df.loc['Star Wars: Episode IV - A New Hope (1977)']\n",
    "\n",
    "# Sort these values highest to lowest\n",
    "ordered_similarities = cosine_similarity_series.sort_values(ascending=False)\n",
    "\n",
    "print(ordered_similarities)"
   ]
  },
  {
   "cell_type": "markdown",
   "metadata": {},
   "source": [
    "## K-Neares neighbors"
   ]
  },
  {
   "cell_type": "code",
   "execution_count": null,
   "metadata": {},
   "outputs": [],
   "source": [
    "# Isolate the similarity scores for user_1 and sort\n",
    "user_similarity_series = user_similarities.loc['user_001']\n",
    "ordered_similarities = user_similarity_series.sort_values(ascending=False)\n",
    "\n",
    "# Find the top 10 most similar users\n",
    "nearest_neighbors = ordered_similarities[1:11].index\n",
    "\n",
    "# Extract the ratings of the neighbors\n",
    "neighbor_ratings = user_ratings_table.reindex(nearest_neighbors)\n",
    "\n",
    "# Calculate the mean rating given by the users nearest neighbors\n",
    "print(neighbor_ratings['Apollo 13 (1995)'].mean())"
   ]
  },
  {
   "cell_type": "code",
   "execution_count": null,
   "metadata": {},
   "outputs": [],
   "source": [
    "# Drop the column you are trying to predict\n",
    "users_to_ratings.drop(\"Apollo 13 (1995)\", axis=1, inplace=True)\n",
    "\n",
    "# Get the data for the user you are predicting for\n",
    "target_user_x = users_to_ratings.loc[[\"user_001\"]]\n",
    "\n",
    "# Get the target data from user_ratings_table\n",
    "other_users_y = user_ratings_table[\"Apollo 13 (1995)\"]\n",
    "\n",
    "# Get the data for only those that have seen the movie\n",
    "other_users_x = users_to_ratings[other_users_y.notnull()]\n",
    "\n",
    "# Remove those that have not seen the movie from the target\n",
    "other_users_y.dropna(inplace=True)"
   ]
  },
  {
   "cell_type": "code",
   "execution_count": null,
   "metadata": {},
   "outputs": [],
   "source": [
    "from sklearn.neighbors import KNeighborsRegressor\n",
    "\n",
    "# Instantiate the user KNN model\n",
    "user_knn = KNeighborsRegressor(metric='cosine', n_neighbors=10)\n",
    "\n",
    "# Fit the model and predict the target user\n",
    "user_knn.fit(other_users_x, other_users_y)\n",
    "user_user_pred = user_knn.predict(target_user_x)\n",
    "\n",
    "print(user_user_pred)"
   ]
  },
  {
   "cell_type": "code",
   "execution_count": null,
   "metadata": {},
   "outputs": [],
   "source": [
    "# User or Item - Based ??\n",
    "\n",
    "# Instantiate the user KNN model\n",
    "user_knn = KNeighborsRegressor()\n",
    "\n",
    "# Fit the model and predict the target user\n",
    "user_knn.fit(other_users_x, other_users_y)\n",
    "user_user_pred = user_knn.predict(target_user_x)\n",
    "print(\"The user-user model predicts {}\".format(user_user_pred))\n",
    "\n",
    "# Instantiate the user KNN model\n",
    "movie_knn = KNeighborsRegressor()\n",
    "\n",
    "# Fit the model on the movie data and predict\n",
    "movie_knn.fit(other_movies_x, other_movies_y)\n",
    "item_item_pred = movie_knn.predict(target_movie_x)\n",
    "print(\"The item-item model predicts {}\".format(item_item_pred))"
   ]
  },
  {
   "cell_type": "markdown",
   "metadata": {},
   "source": [
    "# Spasity"
   ]
  },
  {
   "cell_type": "code",
   "execution_count": null,
   "metadata": {},
   "outputs": [],
   "source": [
    "# Count the occupied cells\n",
    "sparsity_count = user_ratings_df.isnull().values.sum()\n",
    "\n",
    "# Count all cells\n",
    "full_count = user_ratings_df.size\n",
    "\n",
    "# Find the sparsity of the DataFrame\n",
    "sparsity = sparsity_count / full_count\n",
    "print(sparsity)"
   ]
  },
  {
   "cell_type": "code",
   "execution_count": null,
   "metadata": {},
   "outputs": [],
   "source": [
    "# Count the occupied cells per column\n",
    "occupied_count = user_ratings_df.notnull().sum()\n",
    "\n",
    "# Sort the resulting series from low to high\n",
    "sorted_occupied_count = occupied_count.sort_values()\n",
    "\n",
    "# Plot a histogram of the values in sorted_occupied_count\n",
    "sorted_occupied_count.hist()\n",
    "plt.show()"
   ]
  },
  {
   "cell_type": "markdown",
   "metadata": {},
   "source": [
    "## Matrix Factorization"
   ]
  },
  {
   "cell_type": "code",
   "execution_count": null,
   "metadata": {},
   "outputs": [],
   "source": [
    "import numpy as np\n",
    "\n",
    "# Multiply the user and item matrices\n",
    "predictions_df = np.dot(user_matrix, item_matrix)\n",
    "# Inspect the recreated DataFrame\n",
    "print(predictions_df)\n",
    "\n",
    "# Inspect the original DataFrame and compare\n",
    "print(original_df)"
   ]
  },
  {
   "cell_type": "markdown",
   "metadata": {},
   "source": [
    "### Singular value decomposition (SVD)"
   ]
  },
  {
   "cell_type": "code",
   "execution_count": null,
   "metadata": {},
   "outputs": [],
   "source": [
    "# Get the average rating for each user \n",
    "avg_ratings = user_ratings_df.mean(axis=1)\n",
    "\n",
    "# Center each user's ratings around 0\n",
    "user_ratings_centered = user_ratings_df.sub(avg_ratings, axis=1)\n",
    "\n",
    "# Fill in all missing values with 0s\n",
    "user_ratings_centered.fillna(0, inplace=True)\n",
    "\n",
    "# Print the mean of each column\n",
    "print(user_ratings_centered.mean(axis=1))"
   ]
  },
  {
   "cell_type": "code",
   "execution_count": null,
   "metadata": {},
   "outputs": [],
   "source": [
    "# Import the required libraries \n",
    "from scipy.sparse.linalg import svds\n",
    "import numpy as np\n",
    "\n",
    "# Decompose the matrix\n",
    "U, sigma, Vt = svds(user_ratings_centered)\n",
    "\n",
    "# Convert sigma into a diagonal matrix\n",
    "sigma = np.diag(sigma)\n",
    "print(sigma)"
   ]
  },
  {
   "cell_type": "code",
   "execution_count": null,
   "metadata": {},
   "outputs": [],
   "source": [
    "# Dot product of U and sigma\n",
    "U_sigma = np.dot(U, sigma)\n",
    "\n",
    "# Dot product of result and Vt\n",
    "U_sigma_Vt = np.dot(U_sigma, Vt)\n",
    "\n",
    "# Add back on the row means contained in avg_ratings\n",
    "uncentered_ratings = U_sigma_Vt + avg_ratings.values.reshape(-1, 1)\n",
    "\n",
    "# Create DataFrame of the results\n",
    "calc_pred_ratings_df = pd.DataFrame(uncentered_ratings, \n",
    "                                    index=user_ratings_df.index,\n",
    "                                    columns=user_ratings_df.columns\n",
    "                                   )\n",
    "# Print both the recalculated matrix and the original \n",
    "print(calc_pred_ratings_df)\n",
    "print(original_df)\n",
    "\n",
    "# Sort the ratings of User 5 from high to low\n",
    "user_5_ratings = calc_pred_ratings_df.loc['User_5',:].sort_values(ascending=True)\n",
    "\n",
    "print(user_5_ratings)"
   ]
  },
  {
   "cell_type": "markdown",
   "metadata": {},
   "source": [
    "## Validation\n",
    "- RMSE"
   ]
  },
  {
   "cell_type": "code",
   "execution_count": null,
   "metadata": {},
   "outputs": [],
   "source": [
    "# Extract the ground truth to compare your predictions against\n",
    "actual_values = act_ratings_df.iloc[:20, :100].values\n",
    "avg_values = avg_pred_ratings_df.iloc[:20, :100].values\n",
    "predicted_values = calc_pred_ratings_df.iloc[:20, :100].values\n",
    "\n",
    "# Create a mask of actual_values to only look at the non-missing values in the ground truth\n",
    "mask = ~np.isnan(actual_values)\n",
    "\n",
    "# Print the performance of both predictions and compare\n",
    "print(mean_squared_error(actual_values[mask], avg_values[mask], squared=False))\n",
    "print(mean_squared_error(actual_values[mask], predicted_values[mask], squared=False))"
   ]
  }
 ],
 "metadata": {
  "kernelspec": {
   "display_name": "Python 3",
   "language": "python",
   "name": "python3"
  },
  "language_info": {
   "codemirror_mode": {
    "name": "ipython",
    "version": 3
   },
   "file_extension": ".py",
   "mimetype": "text/x-python",
   "name": "python",
   "nbconvert_exporter": "python",
   "pygments_lexer": "ipython3",
   "version": "3.8.5"
  }
 },
 "nbformat": 4,
 "nbformat_minor": 4
}
