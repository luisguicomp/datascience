{
 "cells": [
  {
   "cell_type": "markdown",
   "metadata": {},
   "source": [
    "# Análise do autor do livro de Hebreus\n",
    "\n",
    "## Luís Guilherme Ribeiro"
   ]
  },
  {
   "cell_type": "markdown",
   "metadata": {},
   "source": [
    "## Importando libs"
   ]
  },
  {
   "cell_type": "code",
   "execution_count": 1,
   "metadata": {},
   "outputs": [],
   "source": [
    "import numpy as np\n",
    "import pandas as pd\n",
    "from textblob import TextBlob\n",
    "from googletrans import Translator"
   ]
  },
  {
   "cell_type": "markdown",
   "metadata": {},
   "source": [
    "## Coletando dados"
   ]
  },
  {
   "cell_type": "code",
   "execution_count": 2,
   "metadata": {},
   "outputs": [
    {
     "data": {
      "text/plain": [
       "(31482, 11)"
      ]
     },
     "execution_count": 2,
     "metadata": {},
     "output_type": "execute_result"
    }
   ],
   "source": [
    "# Importação dos dados\n",
    "df_path = \"./biblia_almeida_completa.csv\"\n",
    "df = pd.read_csv(df_path)\n",
    "df.shape"
   ]
  },
  {
   "cell_type": "markdown",
   "metadata": {},
   "source": [
    "## Calculando o sentimento com TextBlob\n",
    "- polarity  [-1 = negativo , 1 = positivo]\n",
    "- subjectivity [ 0 = objetivo, 1 = subjetivo]"
   ]
  },
  {
   "cell_type": "code",
   "execution_count": 7,
   "metadata": {},
   "outputs": [],
   "source": [
    "# Função para traduzir pt -> en\n",
    "def translate_to_en(val):\n",
    "    translator = Translator()\n",
    "    return translator.translate(val, src=\"pt\", dest=\"en\").text"
   ]
  },
  {
   "cell_type": "code",
   "execution_count": null,
   "metadata": {},
   "outputs": [],
   "source": [
    "# Função para salvar o sentimento\n",
    "def get_sentiment(row):\n",
    "    val = row['texto']\n",
    "    blob = TextBlob(translate_to_en(val))\n",
    "    row['polaridade'] = blob.sentiment.polarity\n",
    "    row['subjetividade'] = blob.sentiment.subjectivity\n",
    "    return row"
   ]
  },
  {
   "cell_type": "code",
   "execution_count": null,
   "metadata": {},
   "outputs": [],
   "source": [
    "df_sentiment = df.apply(lambda row: get_sentiment(row), axis=1)\n",
    "df_sentiment.head()"
   ]
  },
  {
   "cell_type": "code",
   "execution_count": null,
   "metadata": {},
   "outputs": [],
   "source": [
    "df_sentiment['subjetividade'].hist(bins=50)"
   ]
  },
  {
   "cell_type": "code",
   "execution_count": null,
   "metadata": {},
   "outputs": [],
   "source": [
    "df_sentiment['polaridade'].hist(bins=50)"
   ]
  },
  {
   "cell_type": "code",
   "execution_count": null,
   "metadata": {},
   "outputs": [],
   "source": [
    "media = round(df_evangelho[df_evangelho['livro']=='Mateus']['polaridade'].mean(),3)\n",
    "desvio = round(df_evangelho[df_evangelho['livro']=='Mateus']['polaridade'].std(),3)\n",
    "print('Média (Mateus): ',media, ' +- ',desvio)\n",
    "\n",
    "media = round(df_evangelho[df_evangelho['livro']=='Marcos']['polaridade'].mean(),3)\n",
    "desvio = round(df_evangelho[df_evangelho['livro']=='Marcos']['polaridade'].std(),3)\n",
    "print('Média (Marcos): ',media, ' +- ',desvio)\n",
    "\n",
    "media = round(df_evangelho[df_evangelho['livro']=='Lucas']['polaridade'].mean(),3)\n",
    "desvio = round(df_evangelho[df_evangelho['livro']=='Lucas']['polaridade'].std(),3)\n",
    "print('Média (Lucas): ',media, ' +- ',desvio)\n",
    "\n",
    "media = round(df_evangelho[df_evangelho['livro']=='Joao']['polaridade'].mean(),3)\n",
    "desvio = round(df_evangelho[df_evangelho['livro']=='Joao']['polaridade'].std(),3)\n",
    "print('Média (Joao): ',media, ' +- ',desvio)\n",
    "\n",
    "plt.style.use('fivethirtyeight')\n",
    "plt.figure(figsize=(16,8))\n",
    "sns.despine(left=True)\n",
    "g = sns.boxplot(x=df_evangelho['livro'], y=df_evangelho['polaridade'], palette=['r','g','b','y']) #Violin Plot\n",
    "g.set_xlabel('Livro', fontsize=16)\n",
    "g.set_ylabel('Polaridade', fontsize=16)\n",
    "plt.show()"
   ]
  },
  {
   "cell_type": "code",
   "execution_count": null,
   "metadata": {},
   "outputs": [],
   "source": [
    "media = round(df_evangelho[df_evangelho['livro']=='Mateus']['subjetividade'].mean(),3)\n",
    "desvio = round(df_evangelho[df_evangelho['livro']=='Mateus']['subjetividade'].std(),3)\n",
    "print('Média (Mateus): ',media, ' +- ',desvio)\n",
    "\n",
    "media = round(df_evangelho[df_evangelho['livro']=='Marcos']['subjetividade'].mean(),3)\n",
    "desvio = round(df_evangelho[df_evangelho['livro']=='Marcos']['subjetividade'].std(),3)\n",
    "print('Média (Marcos): ',media, ' +- ',desvio)\n",
    "\n",
    "media = round(df_evangelho[df_evangelho['livro']=='Lucas']['subjetividade'].mean(),3)\n",
    "desvio = round(df_evangelho[df_evangelho['livro']=='Lucas']['subjetividade'].std(),3)\n",
    "print('Média (Lucas): ',media, ' +- ',desvio)\n",
    "\n",
    "media = round(df_evangelho[df_evangelho['livro']=='Joao']['subjetividade'].mean(),3)\n",
    "desvio = round(df_evangelho[df_evangelho['livro']=='Joao']['subjetividade'].std(),3)\n",
    "print('Média (Joao): ',media, ' +- ',desvio)\n",
    "\n",
    "plt.style.use('fivethirtyeight')\n",
    "plt.figure(figsize=(16,8))\n",
    "sns.despine(left=True)\n",
    "g = sns.boxplot(x=df_evangelho['livro'], y=df_evangelho['subjetividade'], palette=['r','g','b','y']) #Violin Plot\n",
    "g.set_xlabel('Livro', fontsize=16)\n",
    "g.set_ylabel('subjetividade', fontsize=16)\n",
    "plt.show()"
   ]
  },
  {
   "cell_type": "code",
   "execution_count": null,
   "metadata": {},
   "outputs": [],
   "source": []
  },
  {
   "cell_type": "code",
   "execution_count": null,
   "metadata": {},
   "outputs": [],
   "source": [
    "\n",
    "plt.style.use('fivethirtyeight')\n",
    "plt.figure(figsize=(16,8))\n",
    "sns.despine(left=True)\n",
    "g = sns.boxplot(x=df_paulo['livro'], y=df_paulo['polaridade'], palette=['r','g','b','y']) #Violin Plot\n",
    "g.set_xlabel('Livro', fontsize=16)\n",
    "g.set_ylabel('polaridade', fontsize=16)\n",
    "plt.show()"
   ]
  },
  {
   "cell_type": "code",
   "execution_count": null,
   "metadata": {},
   "outputs": [],
   "source": [
    "df_paulo_agg = df_paulo.groupby('livro').agg({'polaridade':'mean','subjetividade':'mean'})\n",
    "df_paulo_agg.sort_values(by=['polaridade'])['polaridade'].plot(kind='bar', sort_columns=True)"
   ]
  },
  {
   "cell_type": "code",
   "execution_count": null,
   "metadata": {},
   "outputs": [],
   "source": [
    "df_paulo_agg.sort_values(by=['subjetividade'])['subjetividade'].plot(kind='bar', sort_columns=True)"
   ]
  }
 ],
 "metadata": {
  "kernelspec": {
   "display_name": "Python 3",
   "language": "python",
   "name": "python3"
  },
  "language_info": {
   "codemirror_mode": {
    "name": "ipython",
    "version": 3
   },
   "file_extension": ".py",
   "mimetype": "text/x-python",
   "name": "python",
   "nbconvert_exporter": "python",
   "pygments_lexer": "ipython3",
   "version": "3.8.5"
  }
 },
 "nbformat": 4,
 "nbformat_minor": 4
}
