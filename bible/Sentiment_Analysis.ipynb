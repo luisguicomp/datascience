{
 "cells": [
  {
   "cell_type": "markdown",
   "metadata": {},
   "source": [
    "# Análise de sentimento em texto\n",
    "\n",
    "- textblob\n",
    "    - polarity  [-1 = negativo , 1 = positivo]\n",
    "    - subjectivity [ 0 = objetivo, 1 = subjetivo]\n",
    "- vaderSentiment\n",
    "    - compound [-1 = negativo , 1 = positivo]"
   ]
  },
  {
   "cell_type": "code",
   "execution_count": 1,
   "metadata": {},
   "outputs": [],
   "source": [
    "from textblob import TextBlob\n",
    "from vaderSentiment.vaderSentiment import SentimentIntensityAnalyzer\n",
    "from googletrans import Translator"
   ]
  },
  {
   "cell_type": "code",
   "execution_count": 7,
   "metadata": {},
   "outputs": [],
   "source": [
    "def translate_to_en(val):\n",
    "    translator = Translator()\n",
    "    return translator.translate(val, src=\"pt\", dest=\"en\").text"
   ]
  },
  {
   "cell_type": "code",
   "execution_count": 31,
   "metadata": {},
   "outputs": [
    {
     "data": {
      "text/plain": [
       "0.4"
      ]
     },
     "execution_count": 31,
     "metadata": {},
     "output_type": "execute_result"
    }
   ],
   "source": [
    "blob = TextBlob(translate_to_en('Mas o fruto do Espírito é: amor, gozo, paz, longanimidade, benignidade, bondade, fé, mansidão, temperança'))\n",
    "subjectivity = blob.sentiment.subjectivity\n",
    "polarity = blob.sentiment.polarity\n",
    "polarity"
   ]
  },
  {
   "cell_type": "markdown",
   "metadata": {},
   "source": [
    "**Polarity** is a float in the range [-1.0, 1.0] where **-1 is the most negative and 1 is the most positive.**\n",
    "**Subjectivity** is a float in the range [0.0, 1.0] where **0.0 is very objective and 1.0 is very subjective.**"
   ]
  },
  {
   "cell_type": "code",
   "execution_count": 33,
   "metadata": {},
   "outputs": [
    {
     "data": {
      "text/plain": [
       "0.6249"
      ]
     },
     "execution_count": 33,
     "metadata": {},
     "output_type": "execute_result"
    }
   ],
   "source": [
    "analyzer= SentimentIntensityAnalyzer()\n",
    "sentence = \"This is a great VADER Example\"\n",
    "test = analyzer.polarity_scores(sentence)['compound']\n",
    "#{'neg': 0.0, 'neu': 0.494, 'pos': 0.506, 'compound': 0.6249}\n",
    "test['compound']"
   ]
  }
 ],
 "metadata": {
  "kernelspec": {
   "display_name": "Python 3",
   "language": "python",
   "name": "python3"
  },
  "language_info": {
   "codemirror_mode": {
    "name": "ipython",
    "version": 3
   },
   "file_extension": ".py",
   "mimetype": "text/x-python",
   "name": "python",
   "nbconvert_exporter": "python",
   "pygments_lexer": "ipython3",
   "version": "3.8.5"
  }
 },
 "nbformat": 4,
 "nbformat_minor": 4
}
