{
 "cells": [
  {
   "cell_type": "code",
   "execution_count": 1,
   "id": "137ef12d",
   "metadata": {},
   "outputs": [],
   "source": [
    "import pandas as pd\n",
    "from googletrans import Translator\n",
    "\n",
    "def translate_to_ptbr(val):\n",
    "    translator = Translator()\n",
    "    return translator.translate(val, src=\"en\", dest=\"pt\").text\n",
    "\n",
    "df = pd.read_csv(\"./data/t_kjv.csv\")\n",
    "df['texto_pt'] = df['t'].map(translate_to_ptbr)\n",
    "df.to_csv('./bible_ptbr.csv')"
   ]
  }
 ],
 "metadata": {
  "kernelspec": {
   "display_name": "Python 3 (ipykernel)",
   "language": "python",
   "name": "python3"
  },
  "language_info": {
   "codemirror_mode": {
    "name": "ipython",
    "version": 3
   },
   "file_extension": ".py",
   "mimetype": "text/x-python",
   "name": "python",
   "nbconvert_exporter": "python",
   "pygments_lexer": "ipython3",
   "version": "3.9.12"
  }
 },
 "nbformat": 4,
 "nbformat_minor": 5
}
