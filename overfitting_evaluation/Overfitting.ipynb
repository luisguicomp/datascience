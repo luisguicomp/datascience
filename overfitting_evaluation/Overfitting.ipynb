{
 "cells": [
  {
   "cell_type": "code",
   "execution_count": 20,
   "metadata": {},
   "outputs": [],
   "source": [
    "from sklearn.datasets import make_classification\n",
    "from sklearn.model_selection import train_test_split\n",
    "from sklearn.metrics import accuracy_score\n",
    "from sklearn.neighbors import KNeighborsClassifier\n",
    "from sklearn.svm import SVC\n",
    "from sklearn.ensemble import RandomForestClassifier\n",
    "from sklearn.neural_network import MLPClassifier\n",
    "from sklearn.naive_bayes import GaussianNB\n",
    "from matplotlib import pyplot\n",
    "import numpy as np"
   ]
  },
  {
   "cell_type": "markdown",
   "metadata": {},
   "source": [
    "## Preparando a base de dados"
   ]
  },
  {
   "cell_type": "code",
   "execution_count": 21,
   "metadata": {},
   "outputs": [],
   "source": [
    "# Base de dados sintética\n",
    "X, y = make_classification(n_samples=5000, n_features=30, n_informative=5, n_redundant=10, random_state=1)\n",
    "# dividindo a base de dados em treno e teste\n",
    "X_train, X_test, y_train, y_test = train_test_split(X, y, test_size=0.3)"
   ]
  },
  {
   "cell_type": "markdown",
   "metadata": {},
   "source": [
    "## Função para avaliar overfitting"
   ]
  },
  {
   "cell_type": "code",
   "execution_count": 22,
   "metadata": {},
   "outputs": [],
   "source": [
    "def evaluate(models, names):\n",
    "    i = 0\n",
    "    # listas das avaliações\n",
    "    train_scores, test_scores, overfitting_score = list(), list(), list()\n",
    "    for m in models:\n",
    "        model = m\n",
    "        model.fit(X_train, y_train)\n",
    "\n",
    "        train_yhat = model.predict(X_train)\n",
    "        train_acc = accuracy_score(y_train, train_yhat)\n",
    "        train_scores.append(round(train_acc,2))\n",
    "\n",
    "        test_yhat = model.predict(X_test)\n",
    "        test_acc = accuracy_score(y_test, test_yhat)\n",
    "        test_scores.append(round(test_acc,2))\n",
    "\n",
    "        #Overfitting baseado na razão entre teste e treino\n",
    "        overfit_acc = test_acc/train_acc\n",
    "        overfit_acc_ = round(overfit_acc,2) if overfit_acc <= 1 else 1\n",
    "        overfitting_score.append(overfit_acc_)\n",
    "\n",
    "        print(names[i])\n",
    "        print('treino: %.3f, teste: %.3f , overfitting: %.3f' % (train_acc, test_acc, overfit_acc_))\n",
    "        i = i+1\n",
    "    return train_scores, test_scores, overfitting_score"
   ]
  },
  {
   "cell_type": "markdown",
   "metadata": {},
   "source": [
    "## Função para plotar gráfico de desempenho"
   ]
  },
  {
   "cell_type": "code",
   "execution_count": 23,
   "metadata": {},
   "outputs": [],
   "source": [
    "def plot_evaluation(models, names, train_scores, test_scores, overfitting_score):\n",
    "    x = np.arange(len(names))\n",
    "    width = 0.25\n",
    "\n",
    "    fig, ax = pyplot.subplots(figsize=(15, 7))\n",
    "    rects1 = ax.bar(x - width/2, train_scores, width, label='Treino')\n",
    "    rects2 = ax.bar(x + width/2, test_scores, width, label='Teste')\n",
    "    rects3 = ax.bar(x + 1.5*width, overfitting_score, width, label='Overfitting')\n",
    "\n",
    "    ax.set_ylabel('Overfitting - Acurácia')\n",
    "    ax.set_title('Avaliação de overfitting')\n",
    "    ax.set_xticks(x)\n",
    "    ax.set_xticklabels(names)\n",
    "    ax.legend(bbox_to_anchor=(1, 1))\n",
    "\n",
    "    ax.bar_label(rects1, padding=2)\n",
    "    ax.bar_label(rects2, padding=2)\n",
    "    ax.bar_label(rects3, padding=2)\n",
    "\n",
    "    #fig.tight_layout()\n",
    "    pyplot.show()"
   ]
  },
  {
   "cell_type": "markdown",
   "metadata": {},
   "source": [
    "## Executando função que avalia o overfitting"
   ]
  },
  {
   "cell_type": "code",
   "execution_count": 24,
   "metadata": {},
   "outputs": [
    {
     "name": "stdout",
     "output_type": "stream",
     "text": [
      "KNN\n",
      "treino: 0.963, teste: 0.935 , overfitting: 0.971\n",
      "SVM\n",
      "treino: 0.961, teste: 0.944 , overfitting: 0.982\n",
      "RF\n",
      "treino: 1.000, teste: 0.959 , overfitting: 0.959\n",
      "MLP\n",
      "treino: 1.000, teste: 0.941 , overfitting: 0.941\n",
      "NB\n",
      "treino: 0.850, teste: 0.858 , overfitting: 1.009\n"
     ]
    }
   ],
   "source": [
    "names = ['KNN', 'SVM', 'RF', 'MLP', 'NB']\n",
    "models = [KNeighborsClassifier(n_neighbors=5), SVC(), RandomForestClassifier(), MLPClassifier(max_iter=500), GaussianNB()]\n",
    "\n",
    "train_scores, test_scores, overfitting_score = evaluate(models, names)"
   ]
  },
  {
   "cell_type": "code",
   "execution_count": 25,
   "metadata": {
    "scrolled": true
   },
   "outputs": [
    {
     "data": {
      "image/png": "[encoded data removed]",
      "text/plain": [
       "<Figure size 1080x504 with 1 Axes>"
      ]
     },
     "metadata": {
      "needs_background": "light"
     },
     "output_type": "display_data"
    }
   ],
   "source": [
    "plot_evaluation(models, names, train_scores, test_scores, overfitting_score)"
   ]
  }
 ],
 "metadata": {
  "kernelspec": {
   "display_name": "Python 3",
   "language": "python",
   "name": "python3"
  },
  "language_info": {
   "codemirror_mode": {
    "name": "ipython",
    "version": 3
   },
   "file_extension": ".py",
   "mimetype": "text/x-python",
   "name": "python",
   "nbconvert_exporter": "python",
   "pygments_lexer": "ipython3",
   "version": "3.8.5"
  }
 },
 "nbformat": 4,
 "nbformat_minor": 4
}
