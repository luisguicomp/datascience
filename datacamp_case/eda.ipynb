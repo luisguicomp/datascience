{
 "cells": [
  {
   "cell_type": "markdown",
   "id": "3a820588-dd19-47f9-98f2-84fd7305dcf6",
   "metadata": {},
   "source": [
    "# Rentals problem"
   ]
  },
  {
   "cell_type": "markdown",
   "id": "6ad07e06-0dcb-4084-b2aa-42d6a5f5c1c9",
   "metadata": {},
   "source": [
    "Author: Luís Guilherme Ribeiro"
   ]
  },
  {
   "cell_type": "markdown",
   "id": "3c6b454e-bd82-4cd4-832d-4c182332659f",
   "metadata": {},
   "source": [
    "### Importing libraries and data"
   ]
  },
  {
   "cell_type": "code",
   "execution_count": 175,
   "id": "valued-laptop",
   "metadata": {
    "scrolled": true
   },
   "outputs": [],
   "source": [
    "import pandas as pd\n",
    "import numpy as np\n",
    "import seaborn as sns\n",
    "import matplotlib.pyplot as plt\n",
    "from sklearn.model_selection import train_test_split, cross_val_score\n",
    "from sklearn.metrics import r2_score, mean_absolute_error, mean_squared_error\n",
    "from math import sqrt\n",
    "from sklearn.linear_model import LinearRegression\n",
    "from sklearn.neural_network import MLPRegressor\n",
    "from sklearn.ensemble import RandomForestRegressor, ExtraTreesRegressor\n",
    "from xgboost import XGBRegressor\n",
    "from sklearn.pipeline import Pipeline\n",
    "from IPython.display import Image\n",
    "from scipy.stats import wilcoxon, friedmanchisquare\n",
    "from sklearn.preprocessing import OrdinalEncoder, OneHotEncoder\n",
    "\n",
    "data = pd.read_csv(\"data/rentals.csv\")"
   ]
  },
  {
   "cell_type": "markdown",
   "id": "4b3bbd80-0d4b-42da-9e63-d5f9376f2e62",
   "metadata": {},
   "source": [
    "## Knowing the data"
   ]
  },
  {
   "cell_type": "code",
   "execution_count": 176,
   "id": "e54d879c-4fd1-4468-9b06-2bf6274854de",
   "metadata": {},
   "outputs": [
    {
     "data": {
      "text/html": [
       "<div>\n",
       "<style scoped>\n",
       "    .dataframe tbody tr th:only-of-type {\n",
       "        vertical-align: middle;\n",
       "    }\n",
       "\n",
       "    .dataframe tbody tr th {\n",
       "        vertical-align: top;\n",
       "    }\n",
       "\n",
       "    .dataframe thead th {\n",
       "        text-align: right;\n",
       "    }\n",
       "</style>\n",
       "<table border=\"1\" class=\"dataframe\">\n",
       "  <thead>\n",
       "    <tr style=\"text-align: right;\">\n",
       "      <th></th>\n",
       "      <th>id</th>\n",
       "      <th>latitude</th>\n",
       "      <th>longitude</th>\n",
       "      <th>property_type</th>\n",
       "      <th>room_type</th>\n",
       "      <th>bathrooms</th>\n",
       "      <th>bedrooms</th>\n",
       "      <th>minimum_nights</th>\n",
       "      <th>price</th>\n",
       "    </tr>\n",
       "  </thead>\n",
       "  <tbody>\n",
       "    <tr>\n",
       "      <th>0</th>\n",
       "      <td>958</td>\n",
       "      <td>37.76931</td>\n",
       "      <td>-122.43386</td>\n",
       "      <td>Apartment</td>\n",
       "      <td>Entire home/apt</td>\n",
       "      <td>1.0</td>\n",
       "      <td>1.0</td>\n",
       "      <td>1</td>\n",
       "      <td>$170.00</td>\n",
       "    </tr>\n",
       "    <tr>\n",
       "      <th>1</th>\n",
       "      <td>3850</td>\n",
       "      <td>37.75402</td>\n",
       "      <td>-122.45805</td>\n",
       "      <td>House</td>\n",
       "      <td>Private room</td>\n",
       "      <td>1.0</td>\n",
       "      <td>1.0</td>\n",
       "      <td>1</td>\n",
       "      <td>$99.00</td>\n",
       "    </tr>\n",
       "    <tr>\n",
       "      <th>2</th>\n",
       "      <td>5858</td>\n",
       "      <td>37.74511</td>\n",
       "      <td>-122.42102</td>\n",
       "      <td>Apartment</td>\n",
       "      <td>Entire home/apt</td>\n",
       "      <td>1.0</td>\n",
       "      <td>2.0</td>\n",
       "      <td>30</td>\n",
       "      <td>$235.00</td>\n",
       "    </tr>\n",
       "    <tr>\n",
       "      <th>3</th>\n",
       "      <td>7918</td>\n",
       "      <td>37.76669</td>\n",
       "      <td>-122.45250</td>\n",
       "      <td>Apartment</td>\n",
       "      <td>Private room</td>\n",
       "      <td>4.0</td>\n",
       "      <td>1.0</td>\n",
       "      <td>32</td>\n",
       "      <td>$65.00</td>\n",
       "    </tr>\n",
       "    <tr>\n",
       "      <th>4</th>\n",
       "      <td>8142</td>\n",
       "      <td>37.76487</td>\n",
       "      <td>-122.45183</td>\n",
       "      <td>Apartment</td>\n",
       "      <td>Private room</td>\n",
       "      <td>4.0</td>\n",
       "      <td>1.0</td>\n",
       "      <td>32</td>\n",
       "      <td>$65.00</td>\n",
       "    </tr>\n",
       "  </tbody>\n",
       "</table>\n",
       "</div>"
      ],
      "text/plain": [
       "     id  latitude  longitude property_type        room_type  bathrooms  \\\n",
       "0   958  37.76931 -122.43386     Apartment  Entire home/apt        1.0   \n",
       "1  3850  37.75402 -122.45805         House     Private room        1.0   \n",
       "2  5858  37.74511 -122.42102     Apartment  Entire home/apt        1.0   \n",
       "3  7918  37.76669 -122.45250     Apartment     Private room        4.0   \n",
       "4  8142  37.76487 -122.45183     Apartment     Private room        4.0   \n",
       "\n",
       "   bedrooms  minimum_nights     price  \n",
       "0       1.0               1  $170.00   \n",
       "1       1.0               1   $99.00   \n",
       "2       2.0              30  $235.00   \n",
       "3       1.0              32   $65.00   \n",
       "4       1.0              32   $65.00   "
      ]
     },
     "execution_count": 176,
     "metadata": {},
     "output_type": "execute_result"
    }
   ],
   "source": [
    "data.head(5)"
   ]
  },
  {
   "cell_type": "code",
   "execution_count": 177,
   "id": "2f9a3e1e-2db0-469a-8f4b-0085cbf118f3",
   "metadata": {},
   "outputs": [],
   "source": [
    "data = data.set_index('id')"
   ]
  },
  {
   "cell_type": "code",
   "execution_count": 178,
   "id": "9d7ecc28-ce7c-4fe0-af4c-bac99ec525c9",
   "metadata": {},
   "outputs": [
    {
     "data": {
      "text/html": [
       "<div>\n",
       "<style scoped>\n",
       "    .dataframe tbody tr th:only-of-type {\n",
       "        vertical-align: middle;\n",
       "    }\n",
       "\n",
       "    .dataframe tbody tr th {\n",
       "        vertical-align: top;\n",
       "    }\n",
       "\n",
       "    .dataframe thead th {\n",
       "        text-align: right;\n",
       "    }\n",
       "</style>\n",
       "<table border=\"1\" class=\"dataframe\">\n",
       "  <thead>\n",
       "    <tr style=\"text-align: right;\">\n",
       "      <th></th>\n",
       "      <th>latitude</th>\n",
       "      <th>longitude</th>\n",
       "      <th>bathrooms</th>\n",
       "      <th>bedrooms</th>\n",
       "      <th>minimum_nights</th>\n",
       "    </tr>\n",
       "  </thead>\n",
       "  <tbody>\n",
       "    <tr>\n",
       "      <th>count</th>\n",
       "      <td>8111.000000</td>\n",
       "      <td>8111.000000</td>\n",
       "      <td>8099.000000</td>\n",
       "      <td>8107.000000</td>\n",
       "      <td>8.111000e+03</td>\n",
       "    </tr>\n",
       "    <tr>\n",
       "      <th>mean</th>\n",
       "      <td>37.766054</td>\n",
       "      <td>-122.430107</td>\n",
       "      <td>1.395975</td>\n",
       "      <td>1.345874</td>\n",
       "      <td>1.234526e+04</td>\n",
       "    </tr>\n",
       "    <tr>\n",
       "      <th>std</th>\n",
       "      <td>0.022937</td>\n",
       "      <td>0.026967</td>\n",
       "      <td>0.923213</td>\n",
       "      <td>0.925298</td>\n",
       "      <td>1.110357e+06</td>\n",
       "    </tr>\n",
       "    <tr>\n",
       "      <th>min</th>\n",
       "      <td>37.704630</td>\n",
       "      <td>-122.513060</td>\n",
       "      <td>0.000000</td>\n",
       "      <td>0.000000</td>\n",
       "      <td>1.000000e+00</td>\n",
       "    </tr>\n",
       "    <tr>\n",
       "      <th>25%</th>\n",
       "      <td>37.751450</td>\n",
       "      <td>-122.442830</td>\n",
       "      <td>1.000000</td>\n",
       "      <td>1.000000</td>\n",
       "      <td>2.000000e+00</td>\n",
       "    </tr>\n",
       "    <tr>\n",
       "      <th>50%</th>\n",
       "      <td>37.769150</td>\n",
       "      <td>-122.424650</td>\n",
       "      <td>1.000000</td>\n",
       "      <td>1.000000</td>\n",
       "      <td>4.000000e+00</td>\n",
       "    </tr>\n",
       "    <tr>\n",
       "      <th>75%</th>\n",
       "      <td>37.785670</td>\n",
       "      <td>-122.410615</td>\n",
       "      <td>1.500000</td>\n",
       "      <td>2.000000</td>\n",
       "      <td>3.000000e+01</td>\n",
       "    </tr>\n",
       "    <tr>\n",
       "      <th>max</th>\n",
       "      <td>37.828790</td>\n",
       "      <td>-122.368570</td>\n",
       "      <td>14.000000</td>\n",
       "      <td>14.000000</td>\n",
       "      <td>1.000000e+08</td>\n",
       "    </tr>\n",
       "  </tbody>\n",
       "</table>\n",
       "</div>"
      ],
      "text/plain": [
       "          latitude    longitude    bathrooms     bedrooms  minimum_nights\n",
       "count  8111.000000  8111.000000  8099.000000  8107.000000    8.111000e+03\n",
       "mean     37.766054  -122.430107     1.395975     1.345874    1.234526e+04\n",
       "std       0.022937     0.026967     0.923213     0.925298    1.110357e+06\n",
       "min      37.704630  -122.513060     0.000000     0.000000    1.000000e+00\n",
       "25%      37.751450  -122.442830     1.000000     1.000000    2.000000e+00\n",
       "50%      37.769150  -122.424650     1.000000     1.000000    4.000000e+00\n",
       "75%      37.785670  -122.410615     1.500000     2.000000    3.000000e+01\n",
       "max      37.828790  -122.368570    14.000000    14.000000    1.000000e+08"
      ]
     },
     "execution_count": 178,
     "metadata": {},
     "output_type": "execute_result"
    }
   ],
   "source": [
    "data.describe()"
   ]
  },
  {
   "cell_type": "markdown",
   "id": "e9bf95fd-f200-4c03-b25c-92f3509c3a21",
   "metadata": {},
   "source": [
    "We analyzed the values above, we noticed that some columns we will need to handle them:\n",
    " - The price variable there is a '\\$' symbol\n",
    " - The columns property_type and room_type are categorical variables\n",
    " - The other variables are numeric (continous) (bathrooms, bedrooms, minimum_nights)\n",
    " - The coordinate variables (latitude and longitude) have a low standard deviation, this shows that the properties are relatively close to each other;"
   ]
  },
  {
   "cell_type": "markdown",
   "id": "3e358618-b61c-4c14-9c5d-7e8d8f6d4fd3",
   "metadata": {},
   "source": [
    "# Handling the variables"
   ]
  },
  {
   "cell_type": "markdown",
   "id": "cc4eb345-ef9d-4a06-9375-6bf668e767a1",
   "metadata": {},
   "source": [
    "## Numeric Variables"
   ]
  },
  {
   "cell_type": "markdown",
   "id": "4e117435-ec41-4728-82d9-582b5eb8a1c3",
   "metadata": {},
   "source": [
    "### Handling the price variable\n",
    "We need replace the $ symbol and convert this column to float"
   ]
  },
  {
   "cell_type": "code",
   "execution_count": 179,
   "id": "be64114a-8b20-4021-b18d-8f1c62a770bc",
   "metadata": {},
   "outputs": [
    {
     "data": {
      "text/html": [
       "<div>\n",
       "<style scoped>\n",
       "    .dataframe tbody tr th:only-of-type {\n",
       "        vertical-align: middle;\n",
       "    }\n",
       "\n",
       "    .dataframe tbody tr th {\n",
       "        vertical-align: top;\n",
       "    }\n",
       "\n",
       "    .dataframe thead th {\n",
       "        text-align: right;\n",
       "    }\n",
       "</style>\n",
       "<table border=\"1\" class=\"dataframe\">\n",
       "  <thead>\n",
       "    <tr style=\"text-align: right;\">\n",
       "      <th></th>\n",
       "      <th>latitude</th>\n",
       "      <th>longitude</th>\n",
       "      <th>bathrooms</th>\n",
       "      <th>bedrooms</th>\n",
       "      <th>minimum_nights</th>\n",
       "      <th>price</th>\n",
       "    </tr>\n",
       "  </thead>\n",
       "  <tbody>\n",
       "    <tr>\n",
       "      <th>count</th>\n",
       "      <td>8111.000000</td>\n",
       "      <td>8111.000000</td>\n",
       "      <td>8099.000000</td>\n",
       "      <td>8107.000000</td>\n",
       "      <td>8.111000e+03</td>\n",
       "      <td>8111.000000</td>\n",
       "    </tr>\n",
       "    <tr>\n",
       "      <th>mean</th>\n",
       "      <td>37.766054</td>\n",
       "      <td>-122.430107</td>\n",
       "      <td>1.395975</td>\n",
       "      <td>1.345874</td>\n",
       "      <td>1.234526e+04</td>\n",
       "      <td>225.407101</td>\n",
       "    </tr>\n",
       "    <tr>\n",
       "      <th>std</th>\n",
       "      <td>0.022937</td>\n",
       "      <td>0.026967</td>\n",
       "      <td>0.923213</td>\n",
       "      <td>0.925298</td>\n",
       "      <td>1.110357e+06</td>\n",
       "      <td>412.253039</td>\n",
       "    </tr>\n",
       "    <tr>\n",
       "      <th>min</th>\n",
       "      <td>37.704630</td>\n",
       "      <td>-122.513060</td>\n",
       "      <td>0.000000</td>\n",
       "      <td>0.000000</td>\n",
       "      <td>1.000000e+00</td>\n",
       "      <td>0.000000</td>\n",
       "    </tr>\n",
       "    <tr>\n",
       "      <th>25%</th>\n",
       "      <td>37.751450</td>\n",
       "      <td>-122.442830</td>\n",
       "      <td>1.000000</td>\n",
       "      <td>1.000000</td>\n",
       "      <td>2.000000e+00</td>\n",
       "      <td>100.000000</td>\n",
       "    </tr>\n",
       "    <tr>\n",
       "      <th>50%</th>\n",
       "      <td>37.769150</td>\n",
       "      <td>-122.424650</td>\n",
       "      <td>1.000000</td>\n",
       "      <td>1.000000</td>\n",
       "      <td>4.000000e+00</td>\n",
       "      <td>150.000000</td>\n",
       "    </tr>\n",
       "    <tr>\n",
       "      <th>75%</th>\n",
       "      <td>37.785670</td>\n",
       "      <td>-122.410615</td>\n",
       "      <td>1.500000</td>\n",
       "      <td>2.000000</td>\n",
       "      <td>3.000000e+01</td>\n",
       "      <td>240.000000</td>\n",
       "    </tr>\n",
       "    <tr>\n",
       "      <th>max</th>\n",
       "      <td>37.828790</td>\n",
       "      <td>-122.368570</td>\n",
       "      <td>14.000000</td>\n",
       "      <td>14.000000</td>\n",
       "      <td>1.000000e+08</td>\n",
       "      <td>10000.000000</td>\n",
       "    </tr>\n",
       "  </tbody>\n",
       "</table>\n",
       "</div>"
      ],
      "text/plain": [
       "          latitude    longitude    bathrooms     bedrooms  minimum_nights  \\\n",
       "count  8111.000000  8111.000000  8099.000000  8107.000000    8.111000e+03   \n",
       "mean     37.766054  -122.430107     1.395975     1.345874    1.234526e+04   \n",
       "std       0.022937     0.026967     0.923213     0.925298    1.110357e+06   \n",
       "min      37.704630  -122.513060     0.000000     0.000000    1.000000e+00   \n",
       "25%      37.751450  -122.442830     1.000000     1.000000    2.000000e+00   \n",
       "50%      37.769150  -122.424650     1.000000     1.000000    4.000000e+00   \n",
       "75%      37.785670  -122.410615     1.500000     2.000000    3.000000e+01   \n",
       "max      37.828790  -122.368570    14.000000    14.000000    1.000000e+08   \n",
       "\n",
       "              price  \n",
       "count   8111.000000  \n",
       "mean     225.407101  \n",
       "std      412.253039  \n",
       "min        0.000000  \n",
       "25%      100.000000  \n",
       "50%      150.000000  \n",
       "75%      240.000000  \n",
       "max    10000.000000  "
      ]
     },
     "execution_count": 179,
     "metadata": {},
     "output_type": "execute_result"
    }
   ],
   "source": [
    "data['price'] = data['price'].replace({r'\\$':''}, regex = True).replace({r'\\,':''}, regex = True).astype(float)\n",
    "data.describe()"
   ]
  },
  {
   "cell_type": "markdown",
   "id": "3db4d655-144a-4510-b1b6-44c63d3f12d7",
   "metadata": {},
   "source": [
    "### Filtering prices above $25 per nigth\n",
    "\n",
    "As price values below $25 will not be highly profitable, we will keep records that are greater than this value.\n"
   ]
  },
  {
   "cell_type": "code",
   "execution_count": 180,
   "id": "63516bc0-2c72-4c8e-ba66-c70f6ad56e88",
   "metadata": {},
   "outputs": [
    {
     "data": {
      "text/html": [
       "<div>\n",
       "<style scoped>\n",
       "    .dataframe tbody tr th:only-of-type {\n",
       "        vertical-align: middle;\n",
       "    }\n",
       "\n",
       "    .dataframe tbody tr th {\n",
       "        vertical-align: top;\n",
       "    }\n",
       "\n",
       "    .dataframe thead th {\n",
       "        text-align: right;\n",
       "    }\n",
       "</style>\n",
       "<table border=\"1\" class=\"dataframe\">\n",
       "  <thead>\n",
       "    <tr style=\"text-align: right;\">\n",
       "      <th></th>\n",
       "      <th>latitude</th>\n",
       "      <th>longitude</th>\n",
       "      <th>bathrooms</th>\n",
       "      <th>bedrooms</th>\n",
       "      <th>minimum_nights</th>\n",
       "      <th>price</th>\n",
       "    </tr>\n",
       "  </thead>\n",
       "  <tbody>\n",
       "    <tr>\n",
       "      <th>count</th>\n",
       "      <td>8101.000000</td>\n",
       "      <td>8101.000000</td>\n",
       "      <td>8089.000000</td>\n",
       "      <td>8097.000000</td>\n",
       "      <td>8.101000e+03</td>\n",
       "      <td>8101.000000</td>\n",
       "    </tr>\n",
       "    <tr>\n",
       "      <th>mean</th>\n",
       "      <td>37.766048</td>\n",
       "      <td>-122.430118</td>\n",
       "      <td>1.396464</td>\n",
       "      <td>1.346548</td>\n",
       "      <td>1.236047e+04</td>\n",
       "      <td>225.667325</td>\n",
       "    </tr>\n",
       "    <tr>\n",
       "      <th>std</th>\n",
       "      <td>0.022936</td>\n",
       "      <td>0.026974</td>\n",
       "      <td>0.923679</td>\n",
       "      <td>0.925564</td>\n",
       "      <td>1.111042e+06</td>\n",
       "      <td>412.440788</td>\n",
       "    </tr>\n",
       "    <tr>\n",
       "      <th>min</th>\n",
       "      <td>37.704630</td>\n",
       "      <td>-122.513060</td>\n",
       "      <td>0.000000</td>\n",
       "      <td>0.000000</td>\n",
       "      <td>1.000000e+00</td>\n",
       "      <td>27.000000</td>\n",
       "    </tr>\n",
       "    <tr>\n",
       "      <th>25%</th>\n",
       "      <td>37.751450</td>\n",
       "      <td>-122.442840</td>\n",
       "      <td>1.000000</td>\n",
       "      <td>1.000000</td>\n",
       "      <td>2.000000e+00</td>\n",
       "      <td>100.000000</td>\n",
       "    </tr>\n",
       "    <tr>\n",
       "      <th>50%</th>\n",
       "      <td>37.769150</td>\n",
       "      <td>-122.424670</td>\n",
       "      <td>1.000000</td>\n",
       "      <td>1.000000</td>\n",
       "      <td>4.000000e+00</td>\n",
       "      <td>150.000000</td>\n",
       "    </tr>\n",
       "    <tr>\n",
       "      <th>75%</th>\n",
       "      <td>37.785670</td>\n",
       "      <td>-122.410620</td>\n",
       "      <td>1.500000</td>\n",
       "      <td>2.000000</td>\n",
       "      <td>3.000000e+01</td>\n",
       "      <td>240.000000</td>\n",
       "    </tr>\n",
       "    <tr>\n",
       "      <th>max</th>\n",
       "      <td>37.828790</td>\n",
       "      <td>-122.368570</td>\n",
       "      <td>14.000000</td>\n",
       "      <td>14.000000</td>\n",
       "      <td>1.000000e+08</td>\n",
       "      <td>10000.000000</td>\n",
       "    </tr>\n",
       "  </tbody>\n",
       "</table>\n",
       "</div>"
      ],
      "text/plain": [
       "          latitude    longitude    bathrooms     bedrooms  minimum_nights  \\\n",
       "count  8101.000000  8101.000000  8089.000000  8097.000000    8.101000e+03   \n",
       "mean     37.766048  -122.430118     1.396464     1.346548    1.236047e+04   \n",
       "std       0.022936     0.026974     0.923679     0.925564    1.111042e+06   \n",
       "min      37.704630  -122.513060     0.000000     0.000000    1.000000e+00   \n",
       "25%      37.751450  -122.442840     1.000000     1.000000    2.000000e+00   \n",
       "50%      37.769150  -122.424670     1.000000     1.000000    4.000000e+00   \n",
       "75%      37.785670  -122.410620     1.500000     2.000000    3.000000e+01   \n",
       "max      37.828790  -122.368570    14.000000    14.000000    1.000000e+08   \n",
       "\n",
       "              price  \n",
       "count   8101.000000  \n",
       "mean     225.667325  \n",
       "std      412.440788  \n",
       "min       27.000000  \n",
       "25%      100.000000  \n",
       "50%      150.000000  \n",
       "75%      240.000000  \n",
       "max    10000.000000  "
      ]
     },
     "execution_count": 180,
     "metadata": {},
     "output_type": "execute_result"
    }
   ],
   "source": [
    "#Prices only above $25\n",
    "data = data[data['price']>25]\n",
    "data.describe()"
   ]
  },
  {
   "cell_type": "markdown",
   "id": "407e5404-f1a9-4ad7-9632-30206fc15bd2",
   "metadata": {},
   "source": [
    "Now we have the treated price, and above 25 dollars. Also, we have the minimum_nights variable. So we can create a new variable to find out what the minimum return is:"
   ]
  },
  {
   "cell_type": "code",
   "execution_count": 181,
   "id": "b14e4a46-26b1-4844-b4e9-5330e4f57cfb",
   "metadata": {},
   "outputs": [
    {
     "data": {
      "text/html": [
       "<div>\n",
       "<style scoped>\n",
       "    .dataframe tbody tr th:only-of-type {\n",
       "        vertical-align: middle;\n",
       "    }\n",
       "\n",
       "    .dataframe tbody tr th {\n",
       "        vertical-align: top;\n",
       "    }\n",
       "\n",
       "    .dataframe thead th {\n",
       "        text-align: right;\n",
       "    }\n",
       "</style>\n",
       "<table border=\"1\" class=\"dataframe\">\n",
       "  <thead>\n",
       "    <tr style=\"text-align: right;\">\n",
       "      <th></th>\n",
       "      <th>latitude</th>\n",
       "      <th>longitude</th>\n",
       "      <th>property_type</th>\n",
       "      <th>room_type</th>\n",
       "      <th>bathrooms</th>\n",
       "      <th>bedrooms</th>\n",
       "      <th>minimum_nights</th>\n",
       "      <th>price</th>\n",
       "      <th>minimum_return</th>\n",
       "    </tr>\n",
       "    <tr>\n",
       "      <th>id</th>\n",
       "      <th></th>\n",
       "      <th></th>\n",
       "      <th></th>\n",
       "      <th></th>\n",
       "      <th></th>\n",
       "      <th></th>\n",
       "      <th></th>\n",
       "      <th></th>\n",
       "      <th></th>\n",
       "    </tr>\n",
       "  </thead>\n",
       "  <tbody>\n",
       "    <tr>\n",
       "      <th>958</th>\n",
       "      <td>37.76931</td>\n",
       "      <td>-122.43386</td>\n",
       "      <td>Apartment</td>\n",
       "      <td>Entire home/apt</td>\n",
       "      <td>1.0</td>\n",
       "      <td>1.0</td>\n",
       "      <td>1</td>\n",
       "      <td>170.0</td>\n",
       "      <td>170.0</td>\n",
       "    </tr>\n",
       "    <tr>\n",
       "      <th>3850</th>\n",
       "      <td>37.75402</td>\n",
       "      <td>-122.45805</td>\n",
       "      <td>House</td>\n",
       "      <td>Private room</td>\n",
       "      <td>1.0</td>\n",
       "      <td>1.0</td>\n",
       "      <td>1</td>\n",
       "      <td>99.0</td>\n",
       "      <td>99.0</td>\n",
       "    </tr>\n",
       "    <tr>\n",
       "      <th>5858</th>\n",
       "      <td>37.74511</td>\n",
       "      <td>-122.42102</td>\n",
       "      <td>Apartment</td>\n",
       "      <td>Entire home/apt</td>\n",
       "      <td>1.0</td>\n",
       "      <td>2.0</td>\n",
       "      <td>30</td>\n",
       "      <td>235.0</td>\n",
       "      <td>7050.0</td>\n",
       "    </tr>\n",
       "    <tr>\n",
       "      <th>7918</th>\n",
       "      <td>37.76669</td>\n",
       "      <td>-122.45250</td>\n",
       "      <td>Apartment</td>\n",
       "      <td>Private room</td>\n",
       "      <td>4.0</td>\n",
       "      <td>1.0</td>\n",
       "      <td>32</td>\n",
       "      <td>65.0</td>\n",
       "      <td>2080.0</td>\n",
       "    </tr>\n",
       "    <tr>\n",
       "      <th>8142</th>\n",
       "      <td>37.76487</td>\n",
       "      <td>-122.45183</td>\n",
       "      <td>Apartment</td>\n",
       "      <td>Private room</td>\n",
       "      <td>4.0</td>\n",
       "      <td>1.0</td>\n",
       "      <td>32</td>\n",
       "      <td>65.0</td>\n",
       "      <td>2080.0</td>\n",
       "    </tr>\n",
       "  </tbody>\n",
       "</table>\n",
       "</div>"
      ],
      "text/plain": [
       "      latitude  longitude property_type        room_type  bathrooms  bedrooms  \\\n",
       "id                                                                              \n",
       "958   37.76931 -122.43386     Apartment  Entire home/apt        1.0       1.0   \n",
       "3850  37.75402 -122.45805         House     Private room        1.0       1.0   \n",
       "5858  37.74511 -122.42102     Apartment  Entire home/apt        1.0       2.0   \n",
       "7918  37.76669 -122.45250     Apartment     Private room        4.0       1.0   \n",
       "8142  37.76487 -122.45183     Apartment     Private room        4.0       1.0   \n",
       "\n",
       "      minimum_nights  price  minimum_return  \n",
       "id                                           \n",
       "958                1  170.0           170.0  \n",
       "3850               1   99.0            99.0  \n",
       "5858              30  235.0          7050.0  \n",
       "7918              32   65.0          2080.0  \n",
       "8142              32   65.0          2080.0  "
      ]
     },
     "execution_count": 181,
     "metadata": {},
     "output_type": "execute_result"
    }
   ],
   "source": [
    "data['minimum_return'] = data['price']*data['minimum_nights']\n",
    "data.head(5)"
   ]
  },
  {
   "cell_type": "markdown",
   "id": "8be03310-82cc-4ba3-9338-360fa5a88145",
   "metadata": {},
   "source": [
    "### Handling outliers\n",
    "\n",
    "When analyzing the values of some continuous variables, we notice that some values are way above normal. So let's create a function to remove possible outliers\n",
    "of the dataset."
   ]
  },
  {
   "cell_type": "code",
   "execution_count": 182,
   "id": "9611fe39-2281-4a45-828d-d4577faf347f",
   "metadata": {},
   "outputs": [],
   "source": [
    "# Function\n",
    "def fnc_handling_outliers(df, feats, perc):\n",
    "    df_aux = df\n",
    "    for f in feats:\n",
    "        df = df_aux\n",
    "        quantile = df[f].quantile(perc)\n",
    "        df_aux = df[df[f] < quantile]\n",
    "    return df_aux"
   ]
  },
  {
   "cell_type": "markdown",
   "id": "08eef9a2-f172-4b98-8552-0a6f7118a47b",
   "metadata": {},
   "source": [
    "Now, let´us remove the outliers from continuous variables (except geolocation variables)"
   ]
  },
  {
   "cell_type": "code",
   "execution_count": 183,
   "id": "d6c23ccb-db34-4662-9878-929706fae6c9",
   "metadata": {},
   "outputs": [
    {
     "name": "stdout",
     "output_type": "stream",
     "text": [
      "(8101, 9)\n",
      "(7447, 9)\n"
     ]
    },
    {
     "data": {
      "text/html": [
       "<div>\n",
       "<style scoped>\n",
       "    .dataframe tbody tr th:only-of-type {\n",
       "        vertical-align: middle;\n",
       "    }\n",
       "\n",
       "    .dataframe tbody tr th {\n",
       "        vertical-align: top;\n",
       "    }\n",
       "\n",
       "    .dataframe thead th {\n",
       "        text-align: right;\n",
       "    }\n",
       "</style>\n",
       "<table border=\"1\" class=\"dataframe\">\n",
       "  <thead>\n",
       "    <tr style=\"text-align: right;\">\n",
       "      <th></th>\n",
       "      <th>latitude</th>\n",
       "      <th>longitude</th>\n",
       "      <th>bathrooms</th>\n",
       "      <th>bedrooms</th>\n",
       "      <th>minimum_nights</th>\n",
       "      <th>price</th>\n",
       "      <th>minimum_return</th>\n",
       "    </tr>\n",
       "  </thead>\n",
       "  <tbody>\n",
       "    <tr>\n",
       "      <th>count</th>\n",
       "      <td>7447.000000</td>\n",
       "      <td>7447.000000</td>\n",
       "      <td>7447.000000</td>\n",
       "      <td>7447.000000</td>\n",
       "      <td>7447.000000</td>\n",
       "      <td>7447.000000</td>\n",
       "      <td>7447.000000</td>\n",
       "    </tr>\n",
       "    <tr>\n",
       "      <th>mean</th>\n",
       "      <td>37.765528</td>\n",
       "      <td>-122.430247</td>\n",
       "      <td>1.252719</td>\n",
       "      <td>1.249765</td>\n",
       "      <td>14.456963</td>\n",
       "      <td>184.191352</td>\n",
       "      <td>2338.810528</td>\n",
       "    </tr>\n",
       "    <tr>\n",
       "      <th>std</th>\n",
       "      <td>0.022865</td>\n",
       "      <td>0.027347</td>\n",
       "      <td>0.525841</td>\n",
       "      <td>0.763053</td>\n",
       "      <td>13.848679</td>\n",
       "      <td>126.578765</td>\n",
       "      <td>2822.543477</td>\n",
       "    </tr>\n",
       "    <tr>\n",
       "      <th>min</th>\n",
       "      <td>37.704630</td>\n",
       "      <td>-122.513060</td>\n",
       "      <td>0.000000</td>\n",
       "      <td>0.000000</td>\n",
       "      <td>1.000000</td>\n",
       "      <td>27.000000</td>\n",
       "      <td>38.000000</td>\n",
       "    </tr>\n",
       "    <tr>\n",
       "      <th>25%</th>\n",
       "      <td>37.751085</td>\n",
       "      <td>-122.442980</td>\n",
       "      <td>1.000000</td>\n",
       "      <td>1.000000</td>\n",
       "      <td>2.000000</td>\n",
       "      <td>100.000000</td>\n",
       "      <td>289.000000</td>\n",
       "    </tr>\n",
       "    <tr>\n",
       "      <th>50%</th>\n",
       "      <td>37.767870</td>\n",
       "      <td>-122.424790</td>\n",
       "      <td>1.000000</td>\n",
       "      <td>1.000000</td>\n",
       "      <td>4.000000</td>\n",
       "      <td>150.000000</td>\n",
       "      <td>1047.000000</td>\n",
       "    </tr>\n",
       "    <tr>\n",
       "      <th>75%</th>\n",
       "      <td>37.785005</td>\n",
       "      <td>-122.410420</td>\n",
       "      <td>1.500000</td>\n",
       "      <td>2.000000</td>\n",
       "      <td>30.000000</td>\n",
       "      <td>225.000000</td>\n",
       "      <td>3810.000000</td>\n",
       "    </tr>\n",
       "    <tr>\n",
       "      <th>max</th>\n",
       "      <td>37.828790</td>\n",
       "      <td>-122.368570</td>\n",
       "      <td>4.000000</td>\n",
       "      <td>3.000000</td>\n",
       "      <td>58.000000</td>\n",
       "      <td>900.000000</td>\n",
       "      <td>26970.000000</td>\n",
       "    </tr>\n",
       "  </tbody>\n",
       "</table>\n",
       "</div>"
      ],
      "text/plain": [
       "          latitude    longitude    bathrooms     bedrooms  minimum_nights  \\\n",
       "count  7447.000000  7447.000000  7447.000000  7447.000000     7447.000000   \n",
       "mean     37.765528  -122.430247     1.252719     1.249765       14.456963   \n",
       "std       0.022865     0.027347     0.525841     0.763053       13.848679   \n",
       "min      37.704630  -122.513060     0.000000     0.000000        1.000000   \n",
       "25%      37.751085  -122.442980     1.000000     1.000000        2.000000   \n",
       "50%      37.767870  -122.424790     1.000000     1.000000        4.000000   \n",
       "75%      37.785005  -122.410420     1.500000     2.000000       30.000000   \n",
       "max      37.828790  -122.368570     4.000000     3.000000       58.000000   \n",
       "\n",
       "             price  minimum_return  \n",
       "count  7447.000000     7447.000000  \n",
       "mean    184.191352     2338.810528  \n",
       "std     126.578765     2822.543477  \n",
       "min      27.000000       38.000000  \n",
       "25%     100.000000      289.000000  \n",
       "50%     150.000000     1047.000000  \n",
       "75%     225.000000     3810.000000  \n",
       "max     900.000000    26970.000000  "
      ]
     },
     "execution_count": 183,
     "metadata": {},
     "output_type": "execute_result"
    }
   ],
   "source": [
    "# Removing outliers\n",
    "feats = ['bathrooms', 'bedrooms', 'minimum_nights', 'price']\n",
    "print(data.shape)\n",
    "df = fnc_handling_outliers(data,feats,0.985)\n",
    "print(df.shape)\n",
    "df.describe()"
   ]
  },
  {
   "cell_type": "markdown",
   "id": "24187c4c-4b64-4dd9-981d-da83e62b694f",
   "metadata": {},
   "source": [
    "Note that when using a quantile of 0.985 it was reduced from 8101 to 7447 records"
   ]
  },
  {
   "cell_type": "markdown",
   "id": "e05e3e26-28b4-4f31-afea-8603affb096b",
   "metadata": {},
   "source": [
    "### Handling Geolocation variables\n",
    "\n",
    "Let's consider the median value of latitude and longitude to separate possible regions;\n",
    "So for latitude it was north and south, and for longitude it was separated into east and west;"
   ]
  },
  {
   "cell_type": "code",
   "execution_count": 184,
   "id": "2c4f96a1-d1c4-4e68-9526-372bb07998dd",
   "metadata": {},
   "outputs": [
    {
     "data": {
      "text/html": [
       "<div>\n",
       "<style scoped>\n",
       "    .dataframe tbody tr th:only-of-type {\n",
       "        vertical-align: middle;\n",
       "    }\n",
       "\n",
       "    .dataframe tbody tr th {\n",
       "        vertical-align: top;\n",
       "    }\n",
       "\n",
       "    .dataframe thead th {\n",
       "        text-align: right;\n",
       "    }\n",
       "</style>\n",
       "<table border=\"1\" class=\"dataframe\">\n",
       "  <thead>\n",
       "    <tr style=\"text-align: right;\">\n",
       "      <th></th>\n",
       "      <th>latitude</th>\n",
       "      <th>longitude</th>\n",
       "      <th>property_type</th>\n",
       "      <th>room_type</th>\n",
       "      <th>bathrooms</th>\n",
       "      <th>bedrooms</th>\n",
       "      <th>minimum_nights</th>\n",
       "      <th>price</th>\n",
       "      <th>minimum_return</th>\n",
       "      <th>region_lat</th>\n",
       "      <th>region_lng</th>\n",
       "    </tr>\n",
       "    <tr>\n",
       "      <th>id</th>\n",
       "      <th></th>\n",
       "      <th></th>\n",
       "      <th></th>\n",
       "      <th></th>\n",
       "      <th></th>\n",
       "      <th></th>\n",
       "      <th></th>\n",
       "      <th></th>\n",
       "      <th></th>\n",
       "      <th></th>\n",
       "      <th></th>\n",
       "    </tr>\n",
       "  </thead>\n",
       "  <tbody>\n",
       "    <tr>\n",
       "      <th>958</th>\n",
       "      <td>37.76931</td>\n",
       "      <td>-122.43386</td>\n",
       "      <td>Apartment</td>\n",
       "      <td>Entire home/apt</td>\n",
       "      <td>1.0</td>\n",
       "      <td>1.0</td>\n",
       "      <td>1</td>\n",
       "      <td>170.0</td>\n",
       "      <td>170.0</td>\n",
       "      <td>north</td>\n",
       "      <td>west</td>\n",
       "    </tr>\n",
       "    <tr>\n",
       "      <th>3850</th>\n",
       "      <td>37.75402</td>\n",
       "      <td>-122.45805</td>\n",
       "      <td>House</td>\n",
       "      <td>Private room</td>\n",
       "      <td>1.0</td>\n",
       "      <td>1.0</td>\n",
       "      <td>1</td>\n",
       "      <td>99.0</td>\n",
       "      <td>99.0</td>\n",
       "      <td>south</td>\n",
       "      <td>west</td>\n",
       "    </tr>\n",
       "    <tr>\n",
       "      <th>5858</th>\n",
       "      <td>37.74511</td>\n",
       "      <td>-122.42102</td>\n",
       "      <td>Apartment</td>\n",
       "      <td>Entire home/apt</td>\n",
       "      <td>1.0</td>\n",
       "      <td>2.0</td>\n",
       "      <td>30</td>\n",
       "      <td>235.0</td>\n",
       "      <td>7050.0</td>\n",
       "      <td>south</td>\n",
       "      <td>est</td>\n",
       "    </tr>\n",
       "    <tr>\n",
       "      <th>7918</th>\n",
       "      <td>37.76669</td>\n",
       "      <td>-122.45250</td>\n",
       "      <td>Apartment</td>\n",
       "      <td>Private room</td>\n",
       "      <td>4.0</td>\n",
       "      <td>1.0</td>\n",
       "      <td>32</td>\n",
       "      <td>65.0</td>\n",
       "      <td>2080.0</td>\n",
       "      <td>south</td>\n",
       "      <td>west</td>\n",
       "    </tr>\n",
       "    <tr>\n",
       "      <th>8142</th>\n",
       "      <td>37.76487</td>\n",
       "      <td>-122.45183</td>\n",
       "      <td>Apartment</td>\n",
       "      <td>Private room</td>\n",
       "      <td>4.0</td>\n",
       "      <td>1.0</td>\n",
       "      <td>32</td>\n",
       "      <td>65.0</td>\n",
       "      <td>2080.0</td>\n",
       "      <td>south</td>\n",
       "      <td>west</td>\n",
       "    </tr>\n",
       "    <tr>\n",
       "      <th>...</th>\n",
       "      <td>...</td>\n",
       "      <td>...</td>\n",
       "      <td>...</td>\n",
       "      <td>...</td>\n",
       "      <td>...</td>\n",
       "      <td>...</td>\n",
       "      <td>...</td>\n",
       "      <td>...</td>\n",
       "      <td>...</td>\n",
       "      <td>...</td>\n",
       "      <td>...</td>\n",
       "    </tr>\n",
       "    <tr>\n",
       "      <th>39342094</th>\n",
       "      <td>37.74010</td>\n",
       "      <td>-122.41196</td>\n",
       "      <td>House</td>\n",
       "      <td>Private room</td>\n",
       "      <td>2.0</td>\n",
       "      <td>3.0</td>\n",
       "      <td>30</td>\n",
       "      <td>699.0</td>\n",
       "      <td>20970.0</td>\n",
       "      <td>south</td>\n",
       "      <td>est</td>\n",
       "    </tr>\n",
       "    <tr>\n",
       "      <th>39343373</th>\n",
       "      <td>37.77799</td>\n",
       "      <td>-122.42159</td>\n",
       "      <td>Condominium</td>\n",
       "      <td>Entire home/apt</td>\n",
       "      <td>1.0</td>\n",
       "      <td>1.0</td>\n",
       "      <td>1</td>\n",
       "      <td>200.0</td>\n",
       "      <td>200.0</td>\n",
       "      <td>north</td>\n",
       "      <td>est</td>\n",
       "    </tr>\n",
       "    <tr>\n",
       "      <th>39344101</th>\n",
       "      <td>37.73410</td>\n",
       "      <td>-122.38917</td>\n",
       "      <td>Hut</td>\n",
       "      <td>Private room</td>\n",
       "      <td>2.0</td>\n",
       "      <td>1.0</td>\n",
       "      <td>30</td>\n",
       "      <td>69.0</td>\n",
       "      <td>2070.0</td>\n",
       "      <td>south</td>\n",
       "      <td>est</td>\n",
       "    </tr>\n",
       "    <tr>\n",
       "      <th>39350028</th>\n",
       "      <td>37.78144</td>\n",
       "      <td>-122.41207</td>\n",
       "      <td>Apartment</td>\n",
       "      <td>Entire home/apt</td>\n",
       "      <td>1.0</td>\n",
       "      <td>1.0</td>\n",
       "      <td>30</td>\n",
       "      <td>187.0</td>\n",
       "      <td>5610.0</td>\n",
       "      <td>north</td>\n",
       "      <td>est</td>\n",
       "    </tr>\n",
       "    <tr>\n",
       "      <th>39354181</th>\n",
       "      <td>37.70707</td>\n",
       "      <td>-122.44812</td>\n",
       "      <td>House</td>\n",
       "      <td>Private room</td>\n",
       "      <td>1.0</td>\n",
       "      <td>2.0</td>\n",
       "      <td>1</td>\n",
       "      <td>200.0</td>\n",
       "      <td>200.0</td>\n",
       "      <td>south</td>\n",
       "      <td>west</td>\n",
       "    </tr>\n",
       "  </tbody>\n",
       "</table>\n",
       "<p>7447 rows × 11 columns</p>\n",
       "</div>"
      ],
      "text/plain": [
       "          latitude  longitude property_type        room_type  bathrooms  \\\n",
       "id                                                                        \n",
       "958       37.76931 -122.43386     Apartment  Entire home/apt        1.0   \n",
       "3850      37.75402 -122.45805         House     Private room        1.0   \n",
       "5858      37.74511 -122.42102     Apartment  Entire home/apt        1.0   \n",
       "7918      37.76669 -122.45250     Apartment     Private room        4.0   \n",
       "8142      37.76487 -122.45183     Apartment     Private room        4.0   \n",
       "...            ...        ...           ...              ...        ...   \n",
       "39342094  37.74010 -122.41196         House     Private room        2.0   \n",
       "39343373  37.77799 -122.42159   Condominium  Entire home/apt        1.0   \n",
       "39344101  37.73410 -122.38917           Hut     Private room        2.0   \n",
       "39350028  37.78144 -122.41207     Apartment  Entire home/apt        1.0   \n",
       "39354181  37.70707 -122.44812         House     Private room        1.0   \n",
       "\n",
       "          bedrooms  minimum_nights  price  minimum_return region_lat  \\\n",
       "id                                                                     \n",
       "958            1.0               1  170.0           170.0      north   \n",
       "3850           1.0               1   99.0            99.0      south   \n",
       "5858           2.0              30  235.0          7050.0      south   \n",
       "7918           1.0              32   65.0          2080.0      south   \n",
       "8142           1.0              32   65.0          2080.0      south   \n",
       "...            ...             ...    ...             ...        ...   \n",
       "39342094       3.0              30  699.0         20970.0      south   \n",
       "39343373       1.0               1  200.0           200.0      north   \n",
       "39344101       1.0              30   69.0          2070.0      south   \n",
       "39350028       1.0              30  187.0          5610.0      north   \n",
       "39354181       2.0               1  200.0           200.0      south   \n",
       "\n",
       "         region_lng  \n",
       "id                   \n",
       "958            west  \n",
       "3850           west  \n",
       "5858            est  \n",
       "7918           west  \n",
       "8142           west  \n",
       "...             ...  \n",
       "39342094        est  \n",
       "39343373        est  \n",
       "39344101        est  \n",
       "39350028        est  \n",
       "39354181       west  \n",
       "\n",
       "[7447 rows x 11 columns]"
      ]
     },
     "execution_count": 184,
     "metadata": {},
     "output_type": "execute_result"
    }
   ],
   "source": [
    "# The median value of latitude to separate in north ans south\n",
    "bins_lat = [-np.inf, np.median(df['latitude']), np.inf]\n",
    "labels_lat = ['south', 'north']\n",
    "# The median value of longitude to separate in west ans est\n",
    "bins_lng = [-np.inf, np.median(df['longitude']), np.inf]\n",
    "labels_lng = ['west', 'est']\n",
    "\n",
    "# Two new variables of regions\n",
    "df['region_lat'] = pd.cut(df['latitude'], bins=bins_lat, labels=labels_lat)\n",
    "df['region_lng'] = pd.cut(df['longitude'], bins=bins_lng, labels=labels_lng)\n",
    "\n",
    "df"
   ]
  },
  {
   "cell_type": "markdown",
   "id": "835befe7-e69f-45e9-b9c4-6223a2b0d382",
   "metadata": {
    "tags": []
   },
   "source": [
    "### Categorial Variables "
   ]
  },
  {
   "cell_type": "markdown",
   "id": "c4b4095e-ecda-46c1-80a8-1fd836ace659",
   "metadata": {},
   "source": [
    "We can see that 'property_type' variable has many categories and most of them have few records, so let's create a category called 'Other' to handle this problem"
   ]
  },
  {
   "cell_type": "code",
   "execution_count": 185,
   "id": "97004e2c-9deb-42a6-965a-be621973e1e9",
   "metadata": {
    "tags": []
   },
   "outputs": [
    {
     "data": {
      "text/plain": [
       "Apartment             3057\n",
       "House                 2045\n",
       "Condominium            812\n",
       "Guest suite            574\n",
       "Boutique hotel         256\n",
       "Hotel                  145\n",
       "Townhouse              130\n",
       "Serviced apartment     114\n",
       "Loft                    83\n",
       "Hostel                  55\n",
       "Guesthouse              40\n",
       "Aparthotel              29\n",
       "Other                   23\n",
       "Bed and breakfast       19\n",
       "Bungalow                17\n",
       "Resort                  12\n",
       "Cottage                 12\n",
       "Villa                    9\n",
       "Castle                   4\n",
       "Tiny house               3\n",
       "Cabin                    3\n",
       "Earth house              2\n",
       "Dome house               1\n",
       "Hut                      1\n",
       "In-law                   1\n",
       "Name: property_type, dtype: int64"
      ]
     },
     "execution_count": 185,
     "metadata": {},
     "output_type": "execute_result"
    }
   ],
   "source": [
    "df['property_type'].value_counts()"
   ]
  },
  {
   "cell_type": "markdown",
   "id": "52299cb0-8dea-4992-8425-b3ec521751cc",
   "metadata": {},
   "source": [
    "### Handling property_type\n",
    "\n",
    "Note that we were able to reduce it to 7 categories, including 'Other'"
   ]
  },
  {
   "cell_type": "code",
   "execution_count": 186,
   "id": "2e95e735-7480-4989-9429-00924702a099",
   "metadata": {},
   "outputs": [
    {
     "data": {
      "text/plain": [
       "Apartment         3057\n",
       "House             2045\n",
       "Condominium        812\n",
       "Guest suite        574\n",
       "Other              558\n",
       "Boutique hotel     256\n",
       "Hotel              145\n",
       "Name: property_type, dtype: int64"
      ]
     },
     "execution_count": 186,
     "metadata": {},
     "output_type": "execute_result"
    }
   ],
   "source": [
    "# Get the counts of each category\n",
    "top = df['property_type'].value_counts()[:6].index\n",
    "df.loc[~df['property_type'].isin(top), 'property_type'] = 'Other'\n",
    "df['property_type'].value_counts()"
   ]
  },
  {
   "cell_type": "markdown",
   "id": "f8992d35-c80e-4afe-a68c-4d0d6a3717d1",
   "metadata": {},
   "source": [
    "In the variable 'room_type' everything is ok"
   ]
  },
  {
   "cell_type": "code",
   "execution_count": 187,
   "id": "fefd499f-033c-43df-b1d9-eec9f78b79dc",
   "metadata": {},
   "outputs": [
    {
     "data": {
      "text/plain": [
       "Entire home/apt    4365\n",
       "Private room       2723\n",
       "Shared room         187\n",
       "Hotel room          172\n",
       "Name: room_type, dtype: int64"
      ]
     },
     "execution_count": 187,
     "metadata": {},
     "output_type": "execute_result"
    }
   ],
   "source": [
    "df['room_type'].value_counts()"
   ]
  },
  {
   "cell_type": "markdown",
   "id": "535e950b-3fd3-47c1-b3bb-29846b8ad427",
   "metadata": {
    "tags": []
   },
   "source": [
    "### Encoding categorical variables\n",
    "\n",
    "As we will need to use categorical variables in a model, so we will need to encode so that the model can train"
   ]
  },
  {
   "cell_type": "code",
   "execution_count": 188,
   "id": "a48a7bae-d217-4d2e-96f8-afa653376e72",
   "metadata": {},
   "outputs": [
    {
     "data": {
      "text/html": [
       "<div>\n",
       "<style scoped>\n",
       "    .dataframe tbody tr th:only-of-type {\n",
       "        vertical-align: middle;\n",
       "    }\n",
       "\n",
       "    .dataframe tbody tr th {\n",
       "        vertical-align: top;\n",
       "    }\n",
       "\n",
       "    .dataframe thead th {\n",
       "        text-align: right;\n",
       "    }\n",
       "</style>\n",
       "<table border=\"1\" class=\"dataframe\">\n",
       "  <thead>\n",
       "    <tr style=\"text-align: right;\">\n",
       "      <th></th>\n",
       "      <th>property_type</th>\n",
       "      <th>property_type_encoded</th>\n",
       "    </tr>\n",
       "    <tr>\n",
       "      <th>id</th>\n",
       "      <th></th>\n",
       "      <th></th>\n",
       "    </tr>\n",
       "  </thead>\n",
       "  <tbody>\n",
       "    <tr>\n",
       "      <th>958</th>\n",
       "      <td>Apartment</td>\n",
       "      <td>0.0</td>\n",
       "    </tr>\n",
       "    <tr>\n",
       "      <th>3850</th>\n",
       "      <td>House</td>\n",
       "      <td>5.0</td>\n",
       "    </tr>\n",
       "    <tr>\n",
       "      <th>5858</th>\n",
       "      <td>Apartment</td>\n",
       "      <td>0.0</td>\n",
       "    </tr>\n",
       "    <tr>\n",
       "      <th>7918</th>\n",
       "      <td>Apartment</td>\n",
       "      <td>0.0</td>\n",
       "    </tr>\n",
       "    <tr>\n",
       "      <th>8142</th>\n",
       "      <td>Apartment</td>\n",
       "      <td>0.0</td>\n",
       "    </tr>\n",
       "    <tr>\n",
       "      <th>...</th>\n",
       "      <td>...</td>\n",
       "      <td>...</td>\n",
       "    </tr>\n",
       "    <tr>\n",
       "      <th>39342094</th>\n",
       "      <td>House</td>\n",
       "      <td>5.0</td>\n",
       "    </tr>\n",
       "    <tr>\n",
       "      <th>39343373</th>\n",
       "      <td>Condominium</td>\n",
       "      <td>2.0</td>\n",
       "    </tr>\n",
       "    <tr>\n",
       "      <th>39344101</th>\n",
       "      <td>Other</td>\n",
       "      <td>6.0</td>\n",
       "    </tr>\n",
       "    <tr>\n",
       "      <th>39350028</th>\n",
       "      <td>Apartment</td>\n",
       "      <td>0.0</td>\n",
       "    </tr>\n",
       "    <tr>\n",
       "      <th>39354181</th>\n",
       "      <td>House</td>\n",
       "      <td>5.0</td>\n",
       "    </tr>\n",
       "  </tbody>\n",
       "</table>\n",
       "<p>7447 rows × 2 columns</p>\n",
       "</div>"
      ],
      "text/plain": [
       "         property_type  property_type_encoded\n",
       "id                                           \n",
       "958          Apartment                    0.0\n",
       "3850             House                    5.0\n",
       "5858         Apartment                    0.0\n",
       "7918         Apartment                    0.0\n",
       "8142         Apartment                    0.0\n",
       "...                ...                    ...\n",
       "39342094         House                    5.0\n",
       "39343373   Condominium                    2.0\n",
       "39344101         Other                    6.0\n",
       "39350028     Apartment                    0.0\n",
       "39354181         House                    5.0\n",
       "\n",
       "[7447 rows x 2 columns]"
      ]
     },
     "execution_count": 188,
     "metadata": {},
     "output_type": "execute_result"
    }
   ],
   "source": [
    "ordinal_encoder = OrdinalEncoder()\n",
    "df[\"property_type_encoded\"] = ordinal_encoder.fit_transform(df.loc[:,'property_type'].values.reshape(-1,1))\n",
    "df[['property_type','property_type_encoded']]"
   ]
  },
  {
   "cell_type": "code",
   "execution_count": 189,
   "id": "e3f8b0bd-2b15-49d9-96e9-c136d14ea7ac",
   "metadata": {},
   "outputs": [
    {
     "data": {
      "text/html": [
       "<div>\n",
       "<style scoped>\n",
       "    .dataframe tbody tr th:only-of-type {\n",
       "        vertical-align: middle;\n",
       "    }\n",
       "\n",
       "    .dataframe tbody tr th {\n",
       "        vertical-align: top;\n",
       "    }\n",
       "\n",
       "    .dataframe thead th {\n",
       "        text-align: right;\n",
       "    }\n",
       "</style>\n",
       "<table border=\"1\" class=\"dataframe\">\n",
       "  <thead>\n",
       "    <tr style=\"text-align: right;\">\n",
       "      <th></th>\n",
       "      <th>room_type</th>\n",
       "      <th>room_type_encoded</th>\n",
       "    </tr>\n",
       "    <tr>\n",
       "      <th>id</th>\n",
       "      <th></th>\n",
       "      <th></th>\n",
       "    </tr>\n",
       "  </thead>\n",
       "  <tbody>\n",
       "    <tr>\n",
       "      <th>958</th>\n",
       "      <td>Entire home/apt</td>\n",
       "      <td>0.0</td>\n",
       "    </tr>\n",
       "    <tr>\n",
       "      <th>3850</th>\n",
       "      <td>Private room</td>\n",
       "      <td>2.0</td>\n",
       "    </tr>\n",
       "    <tr>\n",
       "      <th>5858</th>\n",
       "      <td>Entire home/apt</td>\n",
       "      <td>0.0</td>\n",
       "    </tr>\n",
       "    <tr>\n",
       "      <th>7918</th>\n",
       "      <td>Private room</td>\n",
       "      <td>2.0</td>\n",
       "    </tr>\n",
       "    <tr>\n",
       "      <th>8142</th>\n",
       "      <td>Private room</td>\n",
       "      <td>2.0</td>\n",
       "    </tr>\n",
       "    <tr>\n",
       "      <th>...</th>\n",
       "      <td>...</td>\n",
       "      <td>...</td>\n",
       "    </tr>\n",
       "    <tr>\n",
       "      <th>39342094</th>\n",
       "      <td>Private room</td>\n",
       "      <td>2.0</td>\n",
       "    </tr>\n",
       "    <tr>\n",
       "      <th>39343373</th>\n",
       "      <td>Entire home/apt</td>\n",
       "      <td>0.0</td>\n",
       "    </tr>\n",
       "    <tr>\n",
       "      <th>39344101</th>\n",
       "      <td>Private room</td>\n",
       "      <td>2.0</td>\n",
       "    </tr>\n",
       "    <tr>\n",
       "      <th>39350028</th>\n",
       "      <td>Entire home/apt</td>\n",
       "      <td>0.0</td>\n",
       "    </tr>\n",
       "    <tr>\n",
       "      <th>39354181</th>\n",
       "      <td>Private room</td>\n",
       "      <td>2.0</td>\n",
       "    </tr>\n",
       "  </tbody>\n",
       "</table>\n",
       "<p>7447 rows × 2 columns</p>\n",
       "</div>"
      ],
      "text/plain": [
       "                room_type  room_type_encoded\n",
       "id                                          \n",
       "958       Entire home/apt                0.0\n",
       "3850         Private room                2.0\n",
       "5858      Entire home/apt                0.0\n",
       "7918         Private room                2.0\n",
       "8142         Private room                2.0\n",
       "...                   ...                ...\n",
       "39342094     Private room                2.0\n",
       "39343373  Entire home/apt                0.0\n",
       "39344101     Private room                2.0\n",
       "39350028  Entire home/apt                0.0\n",
       "39354181     Private room                2.0\n",
       "\n",
       "[7447 rows x 2 columns]"
      ]
     },
     "execution_count": 189,
     "metadata": {},
     "output_type": "execute_result"
    }
   ],
   "source": [
    "ordinal_encoder = OrdinalEncoder()\n",
    "df['room_type_encoded'] = ordinal_encoder.fit_transform(df.loc[:,'room_type'].values.reshape(-1,1))\n",
    "df[['room_type','room_type_encoded']]"
   ]
  },
  {
   "cell_type": "code",
   "execution_count": 190,
   "id": "7629a84e-2f3d-4687-9d48-6dfc9ba6b279",
   "metadata": {},
   "outputs": [
    {
     "data": {
      "text/html": [
       "<div>\n",
       "<style scoped>\n",
       "    .dataframe tbody tr th:only-of-type {\n",
       "        vertical-align: middle;\n",
       "    }\n",
       "\n",
       "    .dataframe tbody tr th {\n",
       "        vertical-align: top;\n",
       "    }\n",
       "\n",
       "    .dataframe thead th {\n",
       "        text-align: right;\n",
       "    }\n",
       "</style>\n",
       "<table border=\"1\" class=\"dataframe\">\n",
       "  <thead>\n",
       "    <tr style=\"text-align: right;\">\n",
       "      <th></th>\n",
       "      <th>region_lat</th>\n",
       "      <th>region_north</th>\n",
       "    </tr>\n",
       "    <tr>\n",
       "      <th>id</th>\n",
       "      <th></th>\n",
       "      <th></th>\n",
       "    </tr>\n",
       "  </thead>\n",
       "  <tbody>\n",
       "    <tr>\n",
       "      <th>958</th>\n",
       "      <td>north</td>\n",
       "      <td>1</td>\n",
       "    </tr>\n",
       "    <tr>\n",
       "      <th>3850</th>\n",
       "      <td>south</td>\n",
       "      <td>0</td>\n",
       "    </tr>\n",
       "    <tr>\n",
       "      <th>5858</th>\n",
       "      <td>south</td>\n",
       "      <td>0</td>\n",
       "    </tr>\n",
       "    <tr>\n",
       "      <th>7918</th>\n",
       "      <td>south</td>\n",
       "      <td>0</td>\n",
       "    </tr>\n",
       "    <tr>\n",
       "      <th>8142</th>\n",
       "      <td>south</td>\n",
       "      <td>0</td>\n",
       "    </tr>\n",
       "  </tbody>\n",
       "</table>\n",
       "</div>"
      ],
      "text/plain": [
       "     region_lat  region_north\n",
       "id                           \n",
       "958       north             1\n",
       "3850      south             0\n",
       "5858      south             0\n",
       "7918      south             0\n",
       "8142      south             0"
      ]
     },
     "execution_count": 190,
     "metadata": {},
     "output_type": "execute_result"
    }
   ],
   "source": [
    "df['region_north'] = pd.get_dummies(df['region_lat'], drop_first=True)\n",
    "df[['region_lat','region_north']].head()"
   ]
  },
  {
   "cell_type": "markdown",
   "id": "72a36b57-90de-4f29-99d9-d68b8cb10496",
   "metadata": {
    "tags": []
   },
   "source": [
    "### Exploratoty Data Analysis\n",
    "\n",
    "### Person correlation"
   ]
  },
  {
   "cell_type": "code",
   "execution_count": 191,
   "id": "caf13776-caa2-4bce-8129-56733a3cc7c8",
   "metadata": {},
   "outputs": [
    {
     "data": {
      "text/plain": [
       "<AxesSubplot:>"
      ]
     },
     "execution_count": 191,
     "metadata": {},
     "output_type": "execute_result"
    },
    {
     "data": {
      "image/png": "[encoded data removed]",
      "text/plain": [
       "<Figure size 432x288 with 2 Axes>"
      ]
     },
     "metadata": {
      "needs_background": "light"
     },
     "output_type": "display_data"
    }
   ],
   "source": [
    "#Pearson correlation\n",
    "corr = data[['bathrooms','bedrooms','minimum_nights', 'price']].corr()\n",
    "sns.heatmap(corr, annot=True, square=True)\n"
   ]
  },
  {
   "cell_type": "markdown",
   "id": "ef497d1e-e22e-44ac-a916-c24468c69c41",
   "metadata": {},
   "source": [
    "We can see that the 'bedrooms' variable has the most positive correlation with 'price', that is, the greater the number of bedrooms, the higher the property price"
   ]
  },
  {
   "cell_type": "markdown",
   "id": "1de1f8e9-e4fd-4d0e-9645-0f7181bf709f",
   "metadata": {},
   "source": [
    "### Violin plot on categorial variables"
   ]
  },
  {
   "cell_type": "code",
   "execution_count": 192,
   "id": "858d58c8-31e7-43f8-ae96-c0ed6d3c88bc",
   "metadata": {},
   "outputs": [
    {
     "data": {
      "image/png": "[encoded data removed]",
      "text/plain": [
       "<Figure size 1080x576 with 1 Axes>"
      ]
     },
     "metadata": {
      "needs_background": "light"
     },
     "output_type": "display_data"
    }
   ],
   "source": [
    "plt.figure(figsize=(15,8))\n",
    "sns.violinplot(x='room_type', y='price', data=df)\n",
    "plt.show()"
   ]
  },
  {
   "cell_type": "markdown",
   "id": "ad214382-7251-43fb-a6de-51281fe2c39a",
   "metadata": {},
   "source": [
    "When analyzing the variable 'room_type' we notice that the 'shared room' has the lowest prices. Furthermore, 'emtire home' and 'Hotel room' tend to be priced higher than the other categories."
   ]
  },
  {
   "cell_type": "code",
   "execution_count": 193,
   "id": "f5f44549-f8d2-4e76-981a-7a55141b0f9a",
   "metadata": {},
   "outputs": [
    {
     "data": {
      "image/png": "[encoded data removed]",
      "text/plain": [
       "<Figure size 1080x576 with 1 Axes>"
      ]
     },
     "metadata": {
      "needs_background": "light"
     },
     "output_type": "display_data"
    }
   ],
   "source": [
    "plt.figure(figsize=(15,8))\n",
    "sns.violinplot(x='property_type', y='price', data=df)\n",
    "plt.show()"
   ]
  },
  {
   "cell_type": "markdown",
   "id": "ec5dc8f4-9c5d-40ec-bb8a-f79ede8e31a7",
   "metadata": {},
   "source": [
    "When analyzing the variable 'property_type' we noticed the categories 'Boutique hotel' and 'Hotel' tend to have the highest prices.\n",
    "  Unlike the 'Guest Suite', 'House' and 'Other' categories, which tend to have the lowest prices;"
   ]
  },
  {
   "cell_type": "code",
   "execution_count": 194,
   "id": "3d3b2e3c-44de-4973-ab86-e03fec315933",
   "metadata": {},
   "outputs": [
    {
     "data": {
      "image/png": "[encoded data removed]",
      "text/plain": [
       "<Figure size 1080x576 with 1 Axes>"
      ]
     },
     "metadata": {
      "needs_background": "light"
     },
     "output_type": "display_data"
    }
   ],
   "source": [
    "plt.figure(figsize=(15,8))\n",
    "sns.violinplot(x='region_lat', y='price', data=df)\n",
    "plt.show()"
   ]
  },
  {
   "cell_type": "code",
   "execution_count": 195,
   "id": "f128aa7c-fc63-4ecc-975d-3d0aa7691f78",
   "metadata": {},
   "outputs": [
    {
     "data": {
      "image/png": "[encoded data removed]",
      "text/plain": [
       "<Figure size 1080x576 with 1 Axes>"
      ]
     },
     "metadata": {
      "needs_background": "light"
     },
     "output_type": "display_data"
    }
   ],
   "source": [
    "plt.figure(figsize=(15,8))\n",
    "sns.violinplot(x='region_lng', y='price', data=df)\n",
    "plt.show()"
   ]
  },
  {
   "cell_type": "markdown",
   "id": "e7e4269a-86b8-4932-936d-b8f0afeaf532",
   "metadata": {},
   "source": [
    "When comparing prices by region, we noticed that the variable 'region_lat' shows that the northern region has a greater volume of high prices than the southern region.\n",
    "However, for the variable 'region_lng' the parts are graphically similar from one region to another.\n",
    "So, let's just consider the variable 'region_lat' when training our model"
   ]
  },
  {
   "cell_type": "markdown",
   "id": "e9a5e1e5-543b-4b0c-a18c-a271e938a767",
   "metadata": {},
   "source": [
    "### Data to models"
   ]
  },
  {
   "cell_type": "code",
   "execution_count": 196,
   "id": "2fd19a10-386e-485c-85ae-37d50b9e5449",
   "metadata": {},
   "outputs": [],
   "source": [
    "features = ['bathrooms','bedrooms','minimum_nights','room_type_encoded', 'property_type_encoded', 'region_north', 'price']\n",
    "df_model = df[features]\n",
    "X = df_model.drop(['price'], axis=1)\n",
    "y = df_model['price']"
   ]
  },
  {
   "cell_type": "markdown",
   "id": "11598d0d-2456-423b-a12e-5da53b87dc78",
   "metadata": {},
   "source": [
    "## Evaluation"
   ]
  },
  {
   "cell_type": "markdown",
   "id": "d609ed36-86e2-4b3f-bfce-f2e6fb1d0dec",
   "metadata": {},
   "source": [
    "### Regression Evaluation Metrics"
   ]
  },
  {
   "cell_type": "markdown",
   "id": "53efe714-11bb-4ba2-8f6e-3b5b9aa83217",
   "metadata": {},
   "source": [
    "\n",
    "To compare the performance of models let's use metrics\n",
    "\n",
    "- **Coefficient of determination** (R-squared) represents the coefficient of how well the values fit compared to the original values. The value from 0 to 1 interpreted as percentages. The higher the value is, the better the model is;\n",
    "- **Mean Absolute Error** (MAE) represents the difference between the original and predicted values extracted by averaged the absolute difference over the data set;\n",
    "- **Mean Squared Error** (MSE) represents the difference between the original and predicted values extracted by squared the average difference over the data set;\n",
    "- **Root Mean Squared Error** (RMSE) is the error rate by the square root of MSE;\n",
    "\n",
    "in the image below is listed as formulas for each metric:"
   ]
  },
  {
   "cell_type": "code",
   "execution_count": 197,
   "id": "95891a69-f4b2-4df1-a4b0-841f445bb27e",
   "metadata": {},
   "outputs": [
    {
     "data": {
      "image/jpeg": "[encoded data removed]",
      "text/plain": [
       "<IPython.core.display.Image object>"
      ]
     },
     "execution_count": 197,
     "metadata": {},
     "output_type": "execute_result"
    }
   ],
   "source": [
    "Image(filename='formulas.JPG') "
   ]
  },
  {
   "cell_type": "markdown",
   "id": "fde7b70d-bcd1-4e99-a1f7-58c52ac50981",
   "metadata": {},
   "source": [
    "### Regression Models"
   ]
  },
  {
   "cell_type": "code",
   "execution_count": 198,
   "id": "94b822a4-a239-4cd8-b441-d78c1ac4d6fa",
   "metadata": {},
   "outputs": [],
   "source": [
    "# Models\n",
    "lr_pipe = Pipeline(steps=[('modelo',LinearRegression())])\n",
    "rf_pipe = Pipeline(steps=[('modelo', RandomForestRegressor())])\n",
    "et_pipe = Pipeline(steps=[('modelo', ExtraTreesRegressor())])\n",
    "xgb_pipe = Pipeline(steps=[('modelo', XGBRegressor())])\n",
    "\n",
    "models = [\n",
    "    ['LinearRegression', lr_pipe],\n",
    "    ['RandomForest', rf_pipe],\n",
    "    ['ExtraTrees', et_pipe],\n",
    "    ['XGBoost', xgb_pipe]\n",
    "]\n"
   ]
  },
  {
   "cell_type": "markdown",
   "id": "f71768ec-c579-4cc9-8310-4371deb3dda5",
   "metadata": {},
   "source": [
    "## Outcomes"
   ]
  },
  {
   "cell_type": "markdown",
   "id": "f0ea9da9-f5fe-4155-b19f-a3598ee47e31",
   "metadata": {},
   "source": [
    "#### Cross Validation"
   ]
  },
  {
   "cell_type": "code",
   "execution_count": null,
   "id": "c7055a8e-7e60-44ba-b61f-3b1b999a648e",
   "metadata": {},
   "outputs": [
    {
     "name": "stdout",
     "output_type": "stream",
     "text": [
      "\n",
      "LinearRegression\n",
      "R2:  0.4411\n",
      "MAE:  64.5254\n",
      "MSE:  8926.4075\n",
      "RMSE:  94.4086\n",
      "\n",
      "RandomForest\n",
      "R2:  0.4523\n",
      "MAE:  59.105\n",
      "MSE:  8739.1062\n",
      "RMSE:  93.4886\n",
      "\n",
      "ExtraTrees\n",
      "R2:  0.4264\n",
      "MAE:  59.7659\n",
      "MSE:  9138.3682\n",
      "RMSE:  95.4487\n",
      "\n",
      "XGBoost\n"
     ]
    }
   ],
   "source": [
    "results_means = []\n",
    "results_details = []\n",
    "for m in models:\n",
    "    print('\\n'+m[0])\n",
    "    scores_r2 = cross_val_score(m[1], X, y, cv=5, scoring='r2')\n",
    "    scores_mae = cross_val_score(m[1], X, y, cv=5, scoring='neg_mean_absolute_error')\n",
    "    scores_mse = cross_val_score(m[1], X, y, cv=5, scoring='neg_mean_squared_error')\n",
    "    scores_rmse = cross_val_score(m[1], X, y, cv=5, scoring='neg_root_mean_squared_error')\n",
    "    r2 = round(np.mean(scores_r2),4)\n",
    "    mae = round(np.mean(scores_mae)*-1,4)\n",
    "    mse = round(np.mean(scores_mse)*-1,4)\n",
    "    rmse = round(np.mean(scores_rmse)*-1,4)\n",
    "    print('R2: ',r2)\n",
    "    print('MAE: ',mae)\n",
    "    print('MSE: ',mse)\n",
    "    print('RMSE: ',rmse)\n",
    "    results_means.append([m[0], r2, mae, mse, rmse])\n",
    "    results_details.append([m[0], scores_r2, scores_mae, scores_mse, scores_rmse])"
   ]
  },
  {
   "cell_type": "code",
   "execution_count": null,
   "id": "38f546e8-8363-4868-b4b6-ece16daabdf2",
   "metadata": {},
   "outputs": [],
   "source": [
    "df_results = pd.DataFrame (results_means, columns = ['models','r2','mae','mse','rmse'])"
   ]
  },
  {
   "cell_type": "code",
   "execution_count": null,
   "id": "5b310374-abc5-4376-9eaf-3ec25842db5e",
   "metadata": {},
   "outputs": [],
   "source": [
    "plt.figure(figsize = (15, 9))\n",
    "plt.bar(df_results['models'], df_results['r2'], width = 0.4)\n",
    "plt.xlabel(\"Models\")\n",
    "plt.ylabel(\"R-Square (average)\")\n",
    "plt.title(\"Evaluation regression models\")\n",
    "plt.show()"
   ]
  },
  {
   "cell_type": "markdown",
   "id": "f277662a-8cfd-4a01-9e38-fd99a359d6b4",
   "metadata": {},
   "source": [
    "When we compare the r-square, we see that the XGBoost and RandomForest models have the best performance"
   ]
  },
  {
   "cell_type": "code",
   "execution_count": null,
   "id": "78b24f3f-423e-44c4-89f7-de2105bfc3a5",
   "metadata": {},
   "outputs": [],
   "source": [
    "plt.figure(figsize=(15,8))\n",
    "X = df_results['models']\n",
    "y_mae = df_results['mae']\n",
    "y_rmse = df_results['rmse']\n",
    "  \n",
    "X_axis = np.arange(len(X))\n",
    "  \n",
    "plt.bar(X_axis - 0.2, y_mae, 0.4, label = 'MAE')\n",
    "plt.bar(X_axis + 0.2, y_rmse, 0.4, label = 'RMSE')\n",
    "  \n",
    "plt.xticks(X_axis, X)\n",
    "plt.xlabel(\"Groups\")\n",
    "plt.ylabel(\"Number of Students\")\n",
    "plt.title(\"Number of Students in each group\")\n",
    "plt.legend()\n",
    "plt.show()"
   ]
  },
  {
   "cell_type": "markdown",
   "id": "75c1f242-107b-43be-8fae-7b5b63f6c766",
   "metadata": {},
   "source": [
    "When comparing in terms of error (MAE and RMSE) we see that XGBoost has the best performance, with 58.86 of MAE"
   ]
  },
  {
   "cell_type": "markdown",
   "id": "486a0d6b-d7cc-4371-9063-324cc2dca379",
   "metadata": {},
   "source": [
    "### Statistical test \n",
    "\n",
    "Let's apply the wilcoxon test between XGBoost and RF to check if there was statistical difference between r-square and MAE metrics"
   ]
  },
  {
   "cell_type": "code",
   "execution_count": null,
   "id": "d5b30b47-f86f-4e74-bbe5-d0c0290498e7",
   "metadata": {},
   "outputs": [],
   "source": [
    "#\n",
    "alfa = 0.05 # 95% of confidence\n",
    "\n",
    "rf_r2 = results_details[1][1] #RF R2\n",
    "rf_mae = results_details[1][2] #RF MAE\n",
    "xgb_r2 = results_details[3][1] #XGB R2\n",
    "xgb_mae = results_details[3][1] #XGB MAE\n",
    "\n",
    "print('\\n\\nR-Square')\n",
    "stat, p = wilcoxon(rf_r2, xgb_r2)\n",
    "print('p-value = %.4f ' % p)\n",
    "if p > alfa:\n",
    "    print('There was no statistical difference')\n",
    "else:\n",
    "    print('There was statistical difference')\n",
    "    \n",
    "print('\\n\\nMAE')\n",
    "stat, p = wilcoxon(rf_mae, xgb_mae)\n",
    "print('p-value = %.4f ' % p)\n",
    "if p > alfa:\n",
    "    print('There was no statistical difference')\n",
    "else:\n",
    "    print('There was statistical difference')"
   ]
  },
  {
   "cell_type": "markdown",
   "id": "b24ea3d5-796b-4d5f-a5c3-460c30dba62d",
   "metadata": {},
   "source": [
    "### Conclusion\n",
    "\n",
    "In the test it was shown that there was no statistical difference in the performance of the RandomForest and XGBoost models"
   ]
  },
  {
   "cell_type": "markdown",
   "id": "3933c153-417d-4db9-8da8-712b1ff08beb",
   "metadata": {},
   "source": [
    "## Future Works"
   ]
  },
  {
   "cell_type": "markdown",
   "id": "75cbd0a9-9f35-44e0-a7ea-ef59c434309e",
   "metadata": {},
   "source": [
    "- Explore new variables that can help improve price prediction.\n",
    "- Compare new regression models, with different approaches;\n",
    "- Build a data pipeline to put the model into production;"
   ]
  },
  {
   "cell_type": "markdown",
   "id": "832c320b-fbe5-4a22-8372-378506b88417",
   "metadata": {},
   "source": [
    "- Explore more features that can contribute to model performance\n",
    "- Approach new regression models, like ensemble models based on voting\n",
    "- Create a pipeline data to put the model in production\n"
   ]
  }
 ],
 "metadata": {
  "colab": {
   "name": "Welcome to DataCamp Workspaces.ipynb",
   "provenance": []
  },
  "kernelspec": {
   "display_name": "Python 3 (ipykernel)",
   "language": "python",
   "name": "python3"
  },
  "language_info": {
   "codemirror_mode": {
    "name": "ipython",
    "version": 3
   },
   "file_extension": ".py",
   "mimetype": "text/x-python",
   "name": "python",
   "nbconvert_exporter": "python",
   "pygments_lexer": "ipython3",
   "version": "3.8.10"
  }
 },
 "nbformat": 4,
 "nbformat_minor": 5
}
